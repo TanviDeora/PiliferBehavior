{
 "cells": [
  {
   "cell_type": "code",
   "execution_count": 1,
   "id": "6194f4be",
   "metadata": {},
   "outputs": [],
   "source": [
    "import pandas as pd\n",
    "import scipy.io\n",
    "import numpy as np\n",
    "import matplotlib.pyplot as plt\n",
    "import os"
   ]
  },
  {
   "cell_type": "code",
   "execution_count": 2,
   "id": "141a0422",
   "metadata": {
    "scrolled": true
   },
   "outputs": [
    {
     "data": {
      "text/html": [
       "<div>\n",
       "<style scoped>\n",
       "    .dataframe tbody tr th:only-of-type {\n",
       "        vertical-align: middle;\n",
       "    }\n",
       "\n",
       "    .dataframe tbody tr th {\n",
       "        vertical-align: top;\n",
       "    }\n",
       "\n",
       "    .dataframe thead th {\n",
       "        text-align: right;\n",
       "    }\n",
       "</style>\n",
       "<table border=\"1\" class=\"dataframe\">\n",
       "  <thead>\n",
       "    <tr style=\"text-align: right;\">\n",
       "      <th></th>\n",
       "      <th>body_X</th>\n",
       "      <th>body_Y</th>\n",
       "      <th>nectary_X</th>\n",
       "      <th>nectary_Y</th>\n",
       "      <th>prob_base_X</th>\n",
       "      <th>prob_base_Y</th>\n",
       "      <th>prob_mid_X</th>\n",
       "      <th>prob_mid_Y</th>\n",
       "      <th>prob_1_X</th>\n",
       "      <th>prob_1_Y</th>\n",
       "      <th>prob_2_X</th>\n",
       "      <th>prob_2_Y</th>\n",
       "      <th>prob_3_X</th>\n",
       "      <th>prob_3_Y</th>\n",
       "      <th>prob_4_X</th>\n",
       "      <th>prob_4_Y</th>\n",
       "      <th>prob_5_X</th>\n",
       "      <th>prob_5_Y</th>\n",
       "    </tr>\n",
       "  </thead>\n",
       "  <tbody>\n",
       "    <tr>\n",
       "      <th>0</th>\n",
       "      <td>388.078376</td>\n",
       "      <td>381.614068</td>\n",
       "      <td>372.227746</td>\n",
       "      <td>188.424715</td>\n",
       "      <td>381.619192</td>\n",
       "      <td>323.795071</td>\n",
       "      <td>380.238266</td>\n",
       "      <td>277.537139</td>\n",
       "      <td>381.059690</td>\n",
       "      <td>314.190856</td>\n",
       "      <td>381.198874</td>\n",
       "      <td>307.238159</td>\n",
       "      <td>381.084916</td>\n",
       "      <td>300.212757</td>\n",
       "      <td>380.799242</td>\n",
       "      <td>293.442655</td>\n",
       "      <td>380.405303</td>\n",
       "      <td>287.157793</td>\n",
       "    </tr>\n",
       "    <tr>\n",
       "      <th>1</th>\n",
       "      <td>386.810000</td>\n",
       "      <td>386.980000</td>\n",
       "      <td>372.970000</td>\n",
       "      <td>188.000000</td>\n",
       "      <td>381.348241</td>\n",
       "      <td>327.728714</td>\n",
       "      <td>379.416841</td>\n",
       "      <td>278.019424</td>\n",
       "      <td>380.405303</td>\n",
       "      <td>320.557345</td>\n",
       "      <td>380.743042</td>\n",
       "      <td>310.449771</td>\n",
       "      <td>380.743042</td>\n",
       "      <td>302.621466</td>\n",
       "      <td>380.306818</td>\n",
       "      <td>295.597465</td>\n",
       "      <td>380.208333</td>\n",
       "      <td>288.594333</td>\n",
       "    </tr>\n",
       "    <tr>\n",
       "      <th>2</th>\n",
       "      <td>383.100000</td>\n",
       "      <td>379.100000</td>\n",
       "      <td>373.950000</td>\n",
       "      <td>188.010000</td>\n",
       "      <td>378.548415</td>\n",
       "      <td>321.217857</td>\n",
       "      <td>379.950000</td>\n",
       "      <td>278.000000</td>\n",
       "      <td>378.337121</td>\n",
       "      <td>315.709023</td>\n",
       "      <td>378.463881</td>\n",
       "      <td>309.847593</td>\n",
       "      <td>378.691797</td>\n",
       "      <td>301.216386</td>\n",
       "      <td>379.125000</td>\n",
       "      <td>295.238330</td>\n",
       "      <td>379.223485</td>\n",
       "      <td>286.080388</td>\n",
       "    </tr>\n",
       "    <tr>\n",
       "      <th>3</th>\n",
       "      <td>379.238602</td>\n",
       "      <td>381.156274</td>\n",
       "      <td>374.930000</td>\n",
       "      <td>188.010000</td>\n",
       "      <td>377.155303</td>\n",
       "      <td>323.250858</td>\n",
       "      <td>376.815665</td>\n",
       "      <td>278.019424</td>\n",
       "      <td>377.226377</td>\n",
       "      <td>314.914284</td>\n",
       "      <td>378.008049</td>\n",
       "      <td>309.245416</td>\n",
       "      <td>377.096385</td>\n",
       "      <td>301.216386</td>\n",
       "      <td>377.253788</td>\n",
       "      <td>295.597465</td>\n",
       "      <td>376.859848</td>\n",
       "      <td>287.696495</td>\n",
       "    </tr>\n",
       "    <tr>\n",
       "      <th>4</th>\n",
       "      <td>378.700000</td>\n",
       "      <td>379.270000</td>\n",
       "      <td>374.940000</td>\n",
       "      <td>188.010000</td>\n",
       "      <td>376.495312</td>\n",
       "      <td>316.354012</td>\n",
       "      <td>377.010000</td>\n",
       "      <td>278.000000</td>\n",
       "      <td>377.363281</td>\n",
       "      <td>312.985141</td>\n",
       "      <td>376.640553</td>\n",
       "      <td>306.635981</td>\n",
       "      <td>376.754511</td>\n",
       "      <td>300.614209</td>\n",
       "      <td>376.465909</td>\n",
       "      <td>294.699627</td>\n",
       "      <td>376.958333</td>\n",
       "      <td>287.157793</td>\n",
       "    </tr>\n",
       "  </tbody>\n",
       "</table>\n",
       "</div>"
      ],
      "text/plain": [
       "       body_X      body_Y   nectary_X   nectary_Y  prob_base_X  prob_base_Y  \\\n",
       "0  388.078376  381.614068  372.227746  188.424715   381.619192   323.795071   \n",
       "1  386.810000  386.980000  372.970000  188.000000   381.348241   327.728714   \n",
       "2  383.100000  379.100000  373.950000  188.010000   378.548415   321.217857   \n",
       "3  379.238602  381.156274  374.930000  188.010000   377.155303   323.250858   \n",
       "4  378.700000  379.270000  374.940000  188.010000   376.495312   316.354012   \n",
       "\n",
       "   prob_mid_X  prob_mid_Y    prob_1_X    prob_1_Y    prob_2_X    prob_2_Y  \\\n",
       "0  380.238266  277.537139  381.059690  314.190856  381.198874  307.238159   \n",
       "1  379.416841  278.019424  380.405303  320.557345  380.743042  310.449771   \n",
       "2  379.950000  278.000000  378.337121  315.709023  378.463881  309.847593   \n",
       "3  376.815665  278.019424  377.226377  314.914284  378.008049  309.245416   \n",
       "4  377.010000  278.000000  377.363281  312.985141  376.640553  306.635981   \n",
       "\n",
       "     prob_3_X    prob_3_Y    prob_4_X    prob_4_Y    prob_5_X    prob_5_Y  \n",
       "0  381.084916  300.212757  380.799242  293.442655  380.405303  287.157793  \n",
       "1  380.743042  302.621466  380.306818  295.597465  380.208333  288.594333  \n",
       "2  378.691797  301.216386  379.125000  295.238330  379.223485  286.080388  \n",
       "3  377.096385  301.216386  377.253788  295.597465  376.859848  287.696495  \n",
       "4  376.754511  300.614209  376.465909  294.699627  376.958333  287.157793  "
      ]
     },
     "execution_count": 2,
     "metadata": {},
     "output_type": "execute_result"
    }
   ],
   "source": [
    "trackPoints = pd.read_csv('./dataFolder/MV_m1_points.csv')\n",
    "trackPoints.head()"
   ]
  },
  {
   "cell_type": "code",
   "execution_count": 3,
   "id": "4e91a1a7",
   "metadata": {},
   "outputs": [],
   "source": [
    "# redorder the list of tracked points in proboscis \n",
    "\n",
    "def reorder_columns(string, df):\n",
    "    list_of_coord = list([column for column in df.columns if string in column and 'prob' in column])\n",
    "    myorder = [0, 2, 3, 4, 5, 6, 1]\n",
    "    mylist = [list_of_coord[i] for i in myorder]\n",
    "    return(mylist)"
   ]
  },
  {
   "cell_type": "code",
   "execution_count": 4,
   "id": "1d3774d8",
   "metadata": {},
   "outputs": [],
   "source": [
    "arr = []\n",
    "for coord in ['_X', '_Y']:\n",
    "    name = reorder_columns(coord, trackPoints)\n",
    "    arr.append(name)\n",
    "X_arr = trackPoints.loc[:, arr[0]]\n",
    "Y_arr = trackPoints.loc[:, arr[1]]"
   ]
  },
  {
   "cell_type": "code",
   "execution_count": 5,
   "id": "301f5810",
   "metadata": {},
   "outputs": [
    {
     "data": {
      "text/html": [
       "<div>\n",
       "<style scoped>\n",
       "    .dataframe tbody tr th:only-of-type {\n",
       "        vertical-align: middle;\n",
       "    }\n",
       "\n",
       "    .dataframe tbody tr th {\n",
       "        vertical-align: top;\n",
       "    }\n",
       "\n",
       "    .dataframe thead th {\n",
       "        text-align: right;\n",
       "    }\n",
       "</style>\n",
       "<table border=\"1\" class=\"dataframe\">\n",
       "  <thead>\n",
       "    <tr style=\"text-align: right;\">\n",
       "      <th></th>\n",
       "      <th>prob_base_X</th>\n",
       "      <th>prob_1_X</th>\n",
       "      <th>prob_2_X</th>\n",
       "      <th>prob_3_X</th>\n",
       "      <th>prob_4_X</th>\n",
       "      <th>prob_5_X</th>\n",
       "      <th>prob_mid_X</th>\n",
       "    </tr>\n",
       "  </thead>\n",
       "  <tbody>\n",
       "    <tr>\n",
       "      <th>0</th>\n",
       "      <td>381.619192</td>\n",
       "      <td>381.059690</td>\n",
       "      <td>381.198874</td>\n",
       "      <td>381.084916</td>\n",
       "      <td>380.799242</td>\n",
       "      <td>380.405303</td>\n",
       "      <td>380.238266</td>\n",
       "    </tr>\n",
       "    <tr>\n",
       "      <th>1</th>\n",
       "      <td>381.348241</td>\n",
       "      <td>380.405303</td>\n",
       "      <td>380.743042</td>\n",
       "      <td>380.743042</td>\n",
       "      <td>380.306818</td>\n",
       "      <td>380.208333</td>\n",
       "      <td>379.416841</td>\n",
       "    </tr>\n",
       "    <tr>\n",
       "      <th>2</th>\n",
       "      <td>378.548415</td>\n",
       "      <td>378.337121</td>\n",
       "      <td>378.463881</td>\n",
       "      <td>378.691797</td>\n",
       "      <td>379.125000</td>\n",
       "      <td>379.223485</td>\n",
       "      <td>379.950000</td>\n",
       "    </tr>\n",
       "    <tr>\n",
       "      <th>3</th>\n",
       "      <td>377.155303</td>\n",
       "      <td>377.226377</td>\n",
       "      <td>378.008049</td>\n",
       "      <td>377.096385</td>\n",
       "      <td>377.253788</td>\n",
       "      <td>376.859848</td>\n",
       "      <td>376.815665</td>\n",
       "    </tr>\n",
       "    <tr>\n",
       "      <th>4</th>\n",
       "      <td>376.495312</td>\n",
       "      <td>377.363281</td>\n",
       "      <td>376.640553</td>\n",
       "      <td>376.754511</td>\n",
       "      <td>376.465909</td>\n",
       "      <td>376.958333</td>\n",
       "      <td>377.010000</td>\n",
       "    </tr>\n",
       "  </tbody>\n",
       "</table>\n",
       "</div>"
      ],
      "text/plain": [
       "   prob_base_X    prob_1_X    prob_2_X    prob_3_X    prob_4_X    prob_5_X  \\\n",
       "0   381.619192  381.059690  381.198874  381.084916  380.799242  380.405303   \n",
       "1   381.348241  380.405303  380.743042  380.743042  380.306818  380.208333   \n",
       "2   378.548415  378.337121  378.463881  378.691797  379.125000  379.223485   \n",
       "3   377.155303  377.226377  378.008049  377.096385  377.253788  376.859848   \n",
       "4   376.495312  377.363281  376.640553  376.754511  376.465909  376.958333   \n",
       "\n",
       "   prob_mid_X  \n",
       "0  380.238266  \n",
       "1  379.416841  \n",
       "2  379.950000  \n",
       "3  376.815665  \n",
       "4  377.010000  "
      ]
     },
     "execution_count": 5,
     "metadata": {},
     "output_type": "execute_result"
    }
   ],
   "source": [
    "X_arr.head()"
   ]
  },
  {
   "cell_type": "markdown",
   "id": "aab61f86",
   "metadata": {},
   "source": [
    "## fit a polyfit of whatever degree"
   ]
  },
  {
   "cell_type": "code",
   "execution_count": 6,
   "id": "85595e6c",
   "metadata": {},
   "outputs": [],
   "source": [
    "def fitASecondDegCurve(xs, ys):\n",
    "    p = np.poly1d(np.polyfit(ys, xs, deg = 3))\n",
    "    return(p)"
   ]
  },
  {
   "cell_type": "code",
   "execution_count": 7,
   "id": "5c49259f",
   "metadata": {},
   "outputs": [],
   "source": [
    "p_fit = []\n",
    "for rr, x in X_arr.iterrows():\n",
    "        y = Y_arr.loc[rr,:]\n",
    "        p = fitASecondDegCurve(x.values, y.values)\n",
    "        p_fit.append(p)"
   ]
  },
  {
   "cell_type": "code",
   "execution_count": 8,
   "id": "9a648b68",
   "metadata": {},
   "outputs": [
    {
     "data": {
      "text/plain": [
       "poly1d([-4.80372355e-05,  4.43871051e-02, -1.36050106e+01,  1.76024993e+03])"
      ]
     },
     "execution_count": 8,
     "metadata": {},
     "output_type": "execute_result"
    }
   ],
   "source": [
    "p_fit[40]"
   ]
  },
  {
   "cell_type": "code",
   "execution_count": 16,
   "id": "ce752bda",
   "metadata": {},
   "outputs": [],
   "source": [
    "def MakeFigureForFit(x, y, p, ax):\n",
    "    ax.plot(x, y, '.b', p(y),y,'-k')\n",
    "    ax.set_xlim([x.min()-10,x.max() + 10])\n",
    "    ax.set_ylim([y.min() -10, y.max() + 10])\n",
    "    return()"
   ]
  },
  {
   "cell_type": "code",
   "execution_count": 19,
   "id": "e5d84c89",
   "metadata": {},
   "outputs": [],
   "source": [
    "folder = './dataFolder/computeInterpolation/Polyfit3/'"
   ]
  },
  {
   "cell_type": "code",
   "execution_count": 20,
   "id": "bc5eb6ba",
   "metadata": {},
   "outputs": [
    {
     "data": {
      "image/png": "[encoded data removed]",
      "text/plain": [
       "<Figure size 432x288 with 1 Axes>"
      ]
     },
     "metadata": {
      "needs_background": "light"
     },
     "output_type": "display_data"
    }
   ],
   "source": [
    "# make figures to access the interpolation\n",
    "\n",
    "f = plt.figure()\n",
    "ax = f.add_axes([0.3, 0.3, 0.7, 0.7])\n",
    "\n",
    "for ii, p in enumerate(p_fit):\n",
    "    x = X_arr.loc[ii,:].values\n",
    "    y = Y_arr.loc[ii,:].values\n",
    "    MakeFigureForFit(x,y,p,ax)\n",
    "    figname = str(ii).zfill(4) + '.png'\n",
    "    plt.savefig(folder + figname)\n",
    "\n",
    "    plt.cla()"
   ]
  },
  {
   "cell_type": "code",
   "execution_count": null,
   "id": "15598679",
   "metadata": {},
   "outputs": [],
   "source": [
    "# from scipy import interpolate\n",
    "# \n",
    "# def interpol_points(x, y):\n",
    "#     tck, u = interpolate.splprep([x, y], s=3)\n",
    "#     new_points = interpolate.splev(u, tck, der=0)\n",
    "#     return(new_points)"
   ]
  },
  {
   "cell_type": "code",
   "execution_count": null,
   "id": "7080ecb1",
   "metadata": {},
   "outputs": [],
   "source": [
    "# new_x = []\n",
    "# new_y = []\n",
    "# for r, data in X_arr.iterrows():\n",
    "#     x = data.values\n",
    "#     y = Y_arr.loc[r, :].values\n",
    "#     pts__ = interpol_points(x, y)\n",
    "#     x__ = pts__[0]\n",
    "#     y__ = pts__[1]\n",
    "#     new_x.append(x__)\n",
    "#     new_y.append(y__)"
   ]
  }
 ],
 "metadata": {
  "kernelspec": {
   "display_name": "Python 3",
   "language": "python",
   "name": "python3"
  },
  "language_info": {
   "codemirror_mode": {
    "name": "ipython",
    "version": 3
   },
   "file_extension": ".py",
   "mimetype": "text/x-python",
   "name": "python",
   "nbconvert_exporter": "python",
   "pygments_lexer": "ipython3",
   "version": "3.6.5"
  }
 },
 "nbformat": 4,
 "nbformat_minor": 5
}
