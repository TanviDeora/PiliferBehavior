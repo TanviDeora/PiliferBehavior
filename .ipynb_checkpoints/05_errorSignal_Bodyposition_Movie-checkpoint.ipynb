{
 "cells": [
  {
   "cell_type": "code",
   "execution_count": 1,
   "id": "7443f9cf",
   "metadata": {},
   "outputs": [],
   "source": [
    "import pandas as pd\n",
    "import scipy.io\n",
    "import numpy as np\n",
    "import matplotlib.pyplot as plt\n",
    "import os\n",
    "import matplotlib\n",
    "import scipy.signal as signal"
   ]
  },
  {
   "cell_type": "code",
   "execution_count": 2,
   "id": "a1342e48",
   "metadata": {},
   "outputs": [],
   "source": [
    "df = pd.read_csv('./dataFolder/MV_m1_points.csv')"
   ]
  },
  {
   "cell_type": "code",
   "execution_count": 3,
   "id": "53c7282c",
   "metadata": {},
   "outputs": [
    {
     "data": {
      "text/html": [
       "<div>\n",
       "<style scoped>\n",
       "    .dataframe tbody tr th:only-of-type {\n",
       "        vertical-align: middle;\n",
       "    }\n",
       "\n",
       "    .dataframe tbody tr th {\n",
       "        vertical-align: top;\n",
       "    }\n",
       "\n",
       "    .dataframe thead th {\n",
       "        text-align: right;\n",
       "    }\n",
       "</style>\n",
       "<table border=\"1\" class=\"dataframe\">\n",
       "  <thead>\n",
       "    <tr style=\"text-align: right;\">\n",
       "      <th></th>\n",
       "      <th>body_X</th>\n",
       "      <th>body_Y</th>\n",
       "      <th>nectary_X</th>\n",
       "      <th>nectary_Y</th>\n",
       "      <th>prob_base_X</th>\n",
       "      <th>prob_base_Y</th>\n",
       "      <th>prob_mid_X</th>\n",
       "      <th>prob_mid_Y</th>\n",
       "      <th>prob_1_X</th>\n",
       "      <th>prob_1_Y</th>\n",
       "      <th>prob_2_X</th>\n",
       "      <th>prob_2_Y</th>\n",
       "      <th>prob_3_X</th>\n",
       "      <th>prob_3_Y</th>\n",
       "      <th>prob_4_X</th>\n",
       "      <th>prob_4_Y</th>\n",
       "      <th>prob_5_X</th>\n",
       "      <th>prob_5_Y</th>\n",
       "    </tr>\n",
       "  </thead>\n",
       "  <tbody>\n",
       "    <tr>\n",
       "      <th>0</th>\n",
       "      <td>388.078376</td>\n",
       "      <td>381.614068</td>\n",
       "      <td>372.227746</td>\n",
       "      <td>188.424715</td>\n",
       "      <td>381.619192</td>\n",
       "      <td>323.795071</td>\n",
       "      <td>380.238266</td>\n",
       "      <td>277.537139</td>\n",
       "      <td>381.059690</td>\n",
       "      <td>314.190856</td>\n",
       "      <td>381.198874</td>\n",
       "      <td>307.238159</td>\n",
       "      <td>381.084916</td>\n",
       "      <td>300.212757</td>\n",
       "      <td>380.799242</td>\n",
       "      <td>293.442655</td>\n",
       "      <td>380.405303</td>\n",
       "      <td>287.157793</td>\n",
       "    </tr>\n",
       "    <tr>\n",
       "      <th>1</th>\n",
       "      <td>386.810000</td>\n",
       "      <td>386.980000</td>\n",
       "      <td>372.970000</td>\n",
       "      <td>188.000000</td>\n",
       "      <td>381.348241</td>\n",
       "      <td>327.728714</td>\n",
       "      <td>379.416841</td>\n",
       "      <td>278.019424</td>\n",
       "      <td>380.405303</td>\n",
       "      <td>320.557345</td>\n",
       "      <td>380.743042</td>\n",
       "      <td>310.449771</td>\n",
       "      <td>380.743042</td>\n",
       "      <td>302.621466</td>\n",
       "      <td>380.306818</td>\n",
       "      <td>295.597465</td>\n",
       "      <td>380.208333</td>\n",
       "      <td>288.594333</td>\n",
       "    </tr>\n",
       "    <tr>\n",
       "      <th>2</th>\n",
       "      <td>383.100000</td>\n",
       "      <td>379.100000</td>\n",
       "      <td>373.950000</td>\n",
       "      <td>188.010000</td>\n",
       "      <td>378.548415</td>\n",
       "      <td>321.217857</td>\n",
       "      <td>379.950000</td>\n",
       "      <td>278.000000</td>\n",
       "      <td>378.337121</td>\n",
       "      <td>315.709023</td>\n",
       "      <td>378.463881</td>\n",
       "      <td>309.847593</td>\n",
       "      <td>378.691797</td>\n",
       "      <td>301.216386</td>\n",
       "      <td>379.125000</td>\n",
       "      <td>295.238330</td>\n",
       "      <td>379.223485</td>\n",
       "      <td>286.080388</td>\n",
       "    </tr>\n",
       "    <tr>\n",
       "      <th>3</th>\n",
       "      <td>379.238602</td>\n",
       "      <td>381.156274</td>\n",
       "      <td>374.930000</td>\n",
       "      <td>188.010000</td>\n",
       "      <td>377.155303</td>\n",
       "      <td>323.250858</td>\n",
       "      <td>376.815665</td>\n",
       "      <td>278.019424</td>\n",
       "      <td>377.226377</td>\n",
       "      <td>314.914284</td>\n",
       "      <td>378.008049</td>\n",
       "      <td>309.245416</td>\n",
       "      <td>377.096385</td>\n",
       "      <td>301.216386</td>\n",
       "      <td>377.253788</td>\n",
       "      <td>295.597465</td>\n",
       "      <td>376.859848</td>\n",
       "      <td>287.696495</td>\n",
       "    </tr>\n",
       "    <tr>\n",
       "      <th>4</th>\n",
       "      <td>378.700000</td>\n",
       "      <td>379.270000</td>\n",
       "      <td>374.940000</td>\n",
       "      <td>188.010000</td>\n",
       "      <td>376.495312</td>\n",
       "      <td>316.354012</td>\n",
       "      <td>377.010000</td>\n",
       "      <td>278.000000</td>\n",
       "      <td>377.363281</td>\n",
       "      <td>312.985141</td>\n",
       "      <td>376.640553</td>\n",
       "      <td>306.635981</td>\n",
       "      <td>376.754511</td>\n",
       "      <td>300.614209</td>\n",
       "      <td>376.465909</td>\n",
       "      <td>294.699627</td>\n",
       "      <td>376.958333</td>\n",
       "      <td>287.157793</td>\n",
       "    </tr>\n",
       "  </tbody>\n",
       "</table>\n",
       "</div>"
      ],
      "text/plain": [
       "       body_X      body_Y   nectary_X   nectary_Y  prob_base_X  prob_base_Y  \\\n",
       "0  388.078376  381.614068  372.227746  188.424715   381.619192   323.795071   \n",
       "1  386.810000  386.980000  372.970000  188.000000   381.348241   327.728714   \n",
       "2  383.100000  379.100000  373.950000  188.010000   378.548415   321.217857   \n",
       "3  379.238602  381.156274  374.930000  188.010000   377.155303   323.250858   \n",
       "4  378.700000  379.270000  374.940000  188.010000   376.495312   316.354012   \n",
       "\n",
       "   prob_mid_X  prob_mid_Y    prob_1_X    prob_1_Y    prob_2_X    prob_2_Y  \\\n",
       "0  380.238266  277.537139  381.059690  314.190856  381.198874  307.238159   \n",
       "1  379.416841  278.019424  380.405303  320.557345  380.743042  310.449771   \n",
       "2  379.950000  278.000000  378.337121  315.709023  378.463881  309.847593   \n",
       "3  376.815665  278.019424  377.226377  314.914284  378.008049  309.245416   \n",
       "4  377.010000  278.000000  377.363281  312.985141  376.640553  306.635981   \n",
       "\n",
       "     prob_3_X    prob_3_Y    prob_4_X    prob_4_Y    prob_5_X    prob_5_Y  \n",
       "0  381.084916  300.212757  380.799242  293.442655  380.405303  287.157793  \n",
       "1  380.743042  302.621466  380.306818  295.597465  380.208333  288.594333  \n",
       "2  378.691797  301.216386  379.125000  295.238330  379.223485  286.080388  \n",
       "3  377.096385  301.216386  377.253788  295.597465  376.859848  287.696495  \n",
       "4  376.754511  300.614209  376.465909  294.699627  376.958333  287.157793  "
      ]
     },
     "execution_count": 3,
     "metadata": {},
     "output_type": "execute_result"
    }
   ],
   "source": [
    "df.head()"
   ]
  },
  {
   "cell_type": "code",
   "execution_count": 6,
   "id": "f52f2193",
   "metadata": {},
   "outputs": [],
   "source": [
    "key_color = {'body': 'lime',\n",
    "             'nectary': 'lime',\n",
    "             'prob_base': 'darkred',\n",
    "             'prob_mid': 'mistyrose',\n",
    "             'prob_1': 'firebrick',\n",
    "             'prob_2': 'red',\n",
    "             'prob_3': 'indianred',\n",
    "             'prob_4': 'salmon',\n",
    "             'prob_5': 'lightsalmon'}"
   ]
  },
  {
   "cell_type": "code",
   "execution_count": 7,
   "id": "41f26e04",
   "metadata": {},
   "outputs": [
    {
     "data": {
      "text/plain": [
       "[[0, 255, 0],\n",
       " [0, 255, 0],\n",
       " [139, 0, 0],\n",
       " [255, 228, 225],\n",
       " [178, 34, 34],\n",
       " [255, 0, 0],\n",
       " [205, 92, 92],\n",
       " [250, 128, 114],\n",
       " [255, 160, 122]]"
      ]
     },
     "execution_count": 7,
     "metadata": {},
     "output_type": "execute_result"
    }
   ],
   "source": [
    "# get colors in RGB\n",
    "\n",
    "tt= []\n",
    "for k in key_color.keys():\n",
    "    tt_ = matplotlib.colors.to_rgb(key_color[k])\n",
    "    tt_new = [int(i * 255) for i in tt_]\n",
    "#     tt_ = tt_.*2\n",
    "    tt.append(tt_new)\n",
    "tt"
   ]
  },
  {
   "cell_type": "code",
   "execution_count": 8,
   "id": "f7a0d84f",
   "metadata": {},
   "outputs": [],
   "source": [
    "# import matplotlib.pyplot as plt\n",
    "import cv2 as cv2"
   ]
  },
  {
   "cell_type": "code",
   "execution_count": 9,
   "id": "9fba4f4d",
   "metadata": {},
   "outputs": [],
   "source": [
    "path_video = r'C:\\Users\\tanvi.deora\\Dropbox\\Plifer_BehvaiorTrackingData\\MVtracking\\MV_video/'\n",
    "videoname = 'MV_m1_130802_tracked.mp4'"
   ]
  },
  {
   "cell_type": "code",
   "execution_count": 10,
   "id": "ae7f2f84",
   "metadata": {},
   "outputs": [
    {
     "name": "stdout",
     "output_type": "stream",
     "text": [
      "(25.0,) 1000.0 602.0 702.0\n"
     ]
    }
   ],
   "source": [
    "cap = cv2.VideoCapture(path_video + videoname)\n",
    "video_fps = cap.get(cv2.CAP_PROP_FPS),\n",
    "total_frames = cap.get(cv2.CAP_PROP_FRAME_COUNT)\n",
    "height = cap.get(cv2.CAP_PROP_FRAME_HEIGHT)\n",
    "width = cap.get(cv2.CAP_PROP_FRAME_WIDTH)\n",
    "print(video_fps, total_frames, height, width)"
   ]
  },
  {
   "cell_type": "code",
   "execution_count": 11,
   "id": "1f73c385",
   "metadata": {},
   "outputs": [],
   "source": [
    "# get the points and make a line for body axis and tangent\n",
    "\n",
    "body =  df.loc[:, ['body_X', 'body_Y']].values\n",
    "prob_base = df.loc[:, ['prob_base_X', 'prob_base_Y']].values\n",
    "tangent_x = np.load('./dataFolder/errorSignal/tangent_x.npy')\n",
    "tangent_y = np.load('./dataFolder/errorSignal/tangent_y.npy')"
   ]
  },
  {
   "cell_type": "code",
   "execution_count": 12,
   "id": "127d748c",
   "metadata": {},
   "outputs": [],
   "source": [
    "Err_polyfit = pd.read_csv('./dataFolder/errorSignal/Polyfit_errorAngle.csv', \n",
    "                  header = None)\n",
    "Err_polyfit = Err_polyfit.drop(columns = [0])\n",
    "Err_polyfit.rename(columns = {1:'value'}, inplace = True)\n",
    "Err_polyfit.head()\n",
    "\n",
    "# smoaothen data\n",
    "Err_smooth = signal.savgol_filter(Err_polyfit['value'], 5, 3)"
   ]
  },
  {
   "cell_type": "code",
   "execution_count": 43,
   "id": "0d24f8df",
   "metadata": {},
   "outputs": [],
   "source": [
    "for ff in np.arange(int(total_frames)):\n",
    "    cap.set(cv2.CAP_PROP_POS_FRAMES, ff)\n",
    "    ret, frame = cap.read()\n",
    "\n",
    "    b_x = prob_base[ff][0]\n",
    "    b_y = prob_base[ff][1]\n",
    "    fig, ax = plt.subplots()\n",
    "    plt.xlim([b_x - 180, b_x + 180])\n",
    "    plt.ylim([b_y + 180, b_y - 180])\n",
    "\n",
    "\n",
    "    # plot the lines and points\n",
    "    frame = cv2.line(frame, \n",
    "                     (int(body[ff][0]), int(body[ff][0])),\n",
    "                     (int(prob_base[ff][0]), int(prob_base[ff][1])), \n",
    "                     (255, 0, 0), 2)\n",
    "    frame = cv2.line(frame, \n",
    "                     (int(tangent_x[ff][0]), int(tangent_y[ff][0])),\n",
    "                     (int(tangent_x[ff][1]), int(tangent_y[ff][1])), \n",
    "                     (0, 255, 0), 2)\n",
    "    ax.imshow(frame)\n",
    "\n",
    "    ###########################################################################\n",
    "    newax = fig.add_axes([0.6,0.65,0.2,0.2], anchor='NE', zorder=1)\n",
    "    f = 100\n",
    "    t = 1/f\n",
    "\n",
    "    time = np.arange(len(Err_polyfit))*t\n",
    "\n",
    "    # plt.plot(time,Err_polyfit['value'])\n",
    "    newax.plot(time,Err_smooth*180/np.pi)\n",
    "    newax.plot(ff/f, Err_smooth[ff]*180/np.pi, 'ok', markersize = 4)\n",
    "    if ff/f < 2:\n",
    "        newax.set_xlim([0,2])\n",
    "    else:\n",
    "        newax.set_xlim([ff/f - 1, ff/f + 1])\n",
    "    newax.spines['bottom'].set_color('white')\n",
    "    newax.spines['left'].set_color('white')\n",
    "    newax.xaxis.label.set_color('white')\n",
    "    newax.yaxis.label.set_color('white')\n",
    "    newax.tick_params(colors='white')\n",
    "    newax.set_xlabel('Time (ms)', color = 'white')\n",
    "    newax.set_ylabel('Error angle (deg)', color = 'white')\n",
    "    ##############################################################################\n",
    "    \n",
    "    plt.savefig('./dataFolder/errorSignal/movie/tmp/' + str(ff).zfill(4) + '.png')\n",
    "    plt.close()"
   ]
  },
  {
   "cell_type": "code",
   "execution_count": 23,
   "id": "e1e955e2",
   "metadata": {},
   "outputs": [],
   "source": [
    "# stitch those together to form a movie\n",
    "\n",
    "image_folder = './dataFolder/errorSignal/movie/tmp/'\n",
    "video_name = 'video.mp4'\n",
    "\n",
    "images = [img for img in os.listdir(image_folder) if img.endswith(\".png\")]\n",
    "frame = cv2.imread(os.path.join(image_folder, images[0]))\n",
    "height, width, layers = frame.shape\n",
    "\n",
    "video = cv2.VideoWriter(video_name, 0, 1, (width,height))\n",
    "\n",
    "for image in images:\n",
    "    video.write(cv2.imread(os.path.join(image_folder, image)))\n",
    "\n",
    "cv2.destroyAllWindows()\n",
    "video.release()"
   ]
  },
  {
   "cell_type": "code",
   "execution_count": 42,
   "id": "f682d860",
   "metadata": {},
   "outputs": [
    {
     "name": "stdout",
     "output_type": "stream",
     "text": [
      "./dataFolder/errorSignal/movie/tmp/\n"
     ]
    }
   ],
   "source": [
    "# convert images to video with ffmpeg\n",
    "tempImgDirectory = image_folder\n",
    "os.chdir(tempImgDirectory)\n",
    "print(tempImgDirectory)\n",
    "\n",
    "# use ffmpeg to convert directory to video\n",
    "# -r is output frame rate\n",
    "os.system('ffmpeg -start_number 0 -r 20 -i %04d.png -vf \"scale=trunc(iw/2)*2:trunc(ih/2)*2\" -c:v libx264 -pix_fmt yuv420p -y outputVid.mp4')\n",
    "os.chdir('./../../../..')\n",
    "# nameofVideo = r'./' + 'ErrorSignal.mp'\n",
    "# os.rename(r'./outputVid.mp4', nameofVideo)"
   ]
  },
  {
   "cell_type": "code",
   "execution_count": 28,
   "id": "82d8d48c",
   "metadata": {},
   "outputs": [],
   "source": [
    "os.chdir('./../../../..')"
   ]
  },
  {
   "cell_type": "code",
   "execution_count": 40,
   "id": "d91ef302",
   "metadata": {},
   "outputs": [
    {
     "data": {
      "text/plain": [
       "'C:\\\\Users\\\\tanvi.deora\\\\OneDrive - Shiv Nadar Institution of Eminence\\\\GitHub\\\\PiliferPaper\\\\Behavior'"
      ]
     },
     "execution_count": 40,
     "metadata": {},
     "output_type": "execute_result"
    }
   ],
   "source": [
    "os.getcwd()"
   ]
  },
  {
   "cell_type": "code",
   "execution_count": 38,
   "id": "c6517dad",
   "metadata": {},
   "outputs": [],
   "source": [
    "def check_ffmpeg(cls):\n",
    "        \"\"\"\n",
    "        Check whether ``ffmpeg`` can be called.\n",
    "\n",
    "        Return ``True`` on failure and ``False`` on success.\n",
    "\n",
    "        :rtype: bool\n",
    "        \"\"\"\n",
    "        try:\n",
    "            from aeneas.ffmpegwrapper import FFMPEGWrapper\n",
    "            input_file_path = gf.absolute_path(u\"tools/res/audio.mp3\", __file__)\n",
    "            handler, output_file_path = gf.tmp_file(suffix=u\".wav\")\n",
    "            converter = FFMPEGWrapper()\n",
    "            result = converter.convert(input_file_path, output_file_path)\n",
    "            gf.delete_file(handler, output_file_path)\n",
    "            if result:\n",
    "                gf.print_success(u\"ffmpeg         OK\")\n",
    "                return False\n",
    "        except:\n",
    "            pass\n",
    "        gf.print_error(u\"ffmpeg         ERROR\")\n",
    "        gf.print_info(u\"  Please make sure you have ffmpeg installed correctly\")\n",
    "        gf.print_info(u\"  and that its path is in your PATH environment variable\")\n",
    "        return True  "
   ]
  },
  {
   "cell_type": "code",
   "execution_count": 39,
   "id": "8addd46f",
   "metadata": {},
   "outputs": [
    {
     "ename": "NameError",
     "evalue": "name 'check_install' is not defined",
     "output_type": "error",
     "traceback": [
      "\u001b[1;31m---------------------------------------------------------------------------\u001b[0m",
      "\u001b[1;31mNameError\u001b[0m                                 Traceback (most recent call last)",
      "Cell \u001b[1;32mIn[39], line 1\u001b[0m\n\u001b[1;32m----> 1\u001b[0m \u001b[43mcheck_install\u001b[49m(FFMPEG, \u001b[38;5;124m\"\u001b[39m\u001b[38;5;124m-version\u001b[39m\u001b[38;5;124m\"\u001b[39m)\n",
      "\u001b[1;31mNameError\u001b[0m: name 'check_install' is not defined"
     ]
    }
   ],
   "source": [
    "check_install(FFMPEG, \"-version\")"
   ]
  },
  {
   "cell_type": "code",
   "execution_count": null,
   "id": "34b5b945",
   "metadata": {},
   "outputs": [],
   "source": []
  }
 ],
 "metadata": {
  "kernelspec": {
   "display_name": "Python 3 (ipykernel)",
   "language": "python",
   "name": "python3"
  },
  "language_info": {
   "codemirror_mode": {
    "name": "ipython",
    "version": 3
   },
   "file_extension": ".py",
   "mimetype": "text/x-python",
   "name": "python",
   "nbconvert_exporter": "python",
   "pygments_lexer": "ipython3",
   "version": "3.10.9"
  }
 },
 "nbformat": 4,
 "nbformat_minor": 5
}
