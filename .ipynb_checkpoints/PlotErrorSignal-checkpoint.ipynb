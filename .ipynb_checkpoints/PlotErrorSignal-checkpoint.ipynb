{
 "cells": [
  {
   "cell_type": "code",
   "execution_count": 1,
   "id": "5bafde84",
   "metadata": {},
   "outputs": [],
   "source": [
    "import numpy as np\n",
    "import pandas as pd"
   ]
  },
  {
   "cell_type": "code",
   "execution_count": 2,
   "id": "af38ac76",
   "metadata": {},
   "outputs": [],
   "source": [
    "# pull up the polyfit variables and x, y positions\n",
    "\n",
    "p_fit = np.load('./dataFolder/3DpolyfitVariables.npy')\n",
    "X_arr = pd.read_csv('./dataFolder/x_proboscis_ordered')\n",
    "X_arr = X_arr.drop(['Unnamed: 0'], axis=1)\n",
    "Y_arr = pd.read_csv('./dataFolder/y_proboscis_ordered')\n",
    "Y_arr = Y_arr.drop(['Unnamed: 0'], axis=1)"
   ]
  },
  {
   "cell_type": "code",
   "execution_count": 3,
   "id": "6dd3c57b",
   "metadata": {},
   "outputs": [
    {
     "data": {
      "text/html": [
       "<div>\n",
       "<style scoped>\n",
       "    .dataframe tbody tr th:only-of-type {\n",
       "        vertical-align: middle;\n",
       "    }\n",
       "\n",
       "    .dataframe tbody tr th {\n",
       "        vertical-align: top;\n",
       "    }\n",
       "\n",
       "    .dataframe thead th {\n",
       "        text-align: right;\n",
       "    }\n",
       "</style>\n",
       "<table border=\"1\" class=\"dataframe\">\n",
       "  <thead>\n",
       "    <tr style=\"text-align: right;\">\n",
       "      <th></th>\n",
       "      <th>prob_base_Y</th>\n",
       "      <th>prob_1_Y</th>\n",
       "      <th>prob_2_Y</th>\n",
       "      <th>prob_3_Y</th>\n",
       "      <th>prob_4_Y</th>\n",
       "      <th>prob_5_Y</th>\n",
       "      <th>prob_mid_Y</th>\n",
       "    </tr>\n",
       "  </thead>\n",
       "  <tbody>\n",
       "    <tr>\n",
       "      <th>0</th>\n",
       "      <td>323.795071</td>\n",
       "      <td>314.190856</td>\n",
       "      <td>307.238159</td>\n",
       "      <td>300.212757</td>\n",
       "      <td>293.442655</td>\n",
       "      <td>287.157793</td>\n",
       "      <td>277.537139</td>\n",
       "    </tr>\n",
       "    <tr>\n",
       "      <th>1</th>\n",
       "      <td>327.728714</td>\n",
       "      <td>320.557345</td>\n",
       "      <td>310.449771</td>\n",
       "      <td>302.621466</td>\n",
       "      <td>295.597465</td>\n",
       "      <td>288.594333</td>\n",
       "      <td>278.019424</td>\n",
       "    </tr>\n",
       "    <tr>\n",
       "      <th>2</th>\n",
       "      <td>321.217857</td>\n",
       "      <td>315.709023</td>\n",
       "      <td>309.847593</td>\n",
       "      <td>301.216386</td>\n",
       "      <td>295.238330</td>\n",
       "      <td>286.080388</td>\n",
       "      <td>278.000000</td>\n",
       "    </tr>\n",
       "    <tr>\n",
       "      <th>3</th>\n",
       "      <td>323.250858</td>\n",
       "      <td>314.914284</td>\n",
       "      <td>309.245416</td>\n",
       "      <td>301.216386</td>\n",
       "      <td>295.597465</td>\n",
       "      <td>287.696495</td>\n",
       "      <td>278.019424</td>\n",
       "    </tr>\n",
       "    <tr>\n",
       "      <th>4</th>\n",
       "      <td>316.354012</td>\n",
       "      <td>312.985141</td>\n",
       "      <td>306.635981</td>\n",
       "      <td>300.614209</td>\n",
       "      <td>294.699627</td>\n",
       "      <td>287.157793</td>\n",
       "      <td>278.000000</td>\n",
       "    </tr>\n",
       "  </tbody>\n",
       "</table>\n",
       "</div>"
      ],
      "text/plain": [
       "   prob_base_Y    prob_1_Y    prob_2_Y    prob_3_Y    prob_4_Y    prob_5_Y  \\\n",
       "0   323.795071  314.190856  307.238159  300.212757  293.442655  287.157793   \n",
       "1   327.728714  320.557345  310.449771  302.621466  295.597465  288.594333   \n",
       "2   321.217857  315.709023  309.847593  301.216386  295.238330  286.080388   \n",
       "3   323.250858  314.914284  309.245416  301.216386  295.597465  287.696495   \n",
       "4   316.354012  312.985141  306.635981  300.614209  294.699627  287.157793   \n",
       "\n",
       "   prob_mid_Y  \n",
       "0  277.537139  \n",
       "1  278.019424  \n",
       "2  278.000000  \n",
       "3  278.019424  \n",
       "4  278.000000  "
      ]
     },
     "execution_count": 3,
     "metadata": {},
     "output_type": "execute_result"
    }
   ],
   "source": [
    "Y_arr.head()"
   ]
  },
  {
   "cell_type": "markdown",
   "id": "609ff3df",
   "metadata": {},
   "source": [
    "### compute error angle"
   ]
  },
  {
   "cell_type": "code",
   "execution_count": 4,
   "id": "6ffd28ff",
   "metadata": {},
   "outputs": [
    {
     "data": {
      "text/html": [
       "<div>\n",
       "<style scoped>\n",
       "    .dataframe tbody tr th:only-of-type {\n",
       "        vertical-align: middle;\n",
       "    }\n",
       "\n",
       "    .dataframe tbody tr th {\n",
       "        vertical-align: top;\n",
       "    }\n",
       "\n",
       "    .dataframe thead th {\n",
       "        text-align: right;\n",
       "    }\n",
       "</style>\n",
       "<table border=\"1\" class=\"dataframe\">\n",
       "  <thead>\n",
       "    <tr style=\"text-align: right;\">\n",
       "      <th></th>\n",
       "      <th>body_X</th>\n",
       "      <th>body_Y</th>\n",
       "      <th>nectary_X</th>\n",
       "      <th>nectary_Y</th>\n",
       "      <th>prob_base_X</th>\n",
       "      <th>prob_base_Y</th>\n",
       "      <th>prob_mid_X</th>\n",
       "      <th>prob_mid_Y</th>\n",
       "      <th>prob_1_X</th>\n",
       "      <th>prob_1_Y</th>\n",
       "      <th>prob_2_X</th>\n",
       "      <th>prob_2_Y</th>\n",
       "      <th>prob_3_X</th>\n",
       "      <th>prob_3_Y</th>\n",
       "      <th>prob_4_X</th>\n",
       "      <th>prob_4_Y</th>\n",
       "      <th>prob_5_X</th>\n",
       "      <th>prob_5_Y</th>\n",
       "    </tr>\n",
       "  </thead>\n",
       "  <tbody>\n",
       "    <tr>\n",
       "      <th>0</th>\n",
       "      <td>388.078376</td>\n",
       "      <td>381.614068</td>\n",
       "      <td>372.227746</td>\n",
       "      <td>188.424715</td>\n",
       "      <td>381.619192</td>\n",
       "      <td>323.795071</td>\n",
       "      <td>380.238266</td>\n",
       "      <td>277.537139</td>\n",
       "      <td>381.059690</td>\n",
       "      <td>314.190856</td>\n",
       "      <td>381.198874</td>\n",
       "      <td>307.238159</td>\n",
       "      <td>381.084916</td>\n",
       "      <td>300.212757</td>\n",
       "      <td>380.799242</td>\n",
       "      <td>293.442655</td>\n",
       "      <td>380.405303</td>\n",
       "      <td>287.157793</td>\n",
       "    </tr>\n",
       "    <tr>\n",
       "      <th>1</th>\n",
       "      <td>386.810000</td>\n",
       "      <td>386.980000</td>\n",
       "      <td>372.970000</td>\n",
       "      <td>188.000000</td>\n",
       "      <td>381.348241</td>\n",
       "      <td>327.728714</td>\n",
       "      <td>379.416841</td>\n",
       "      <td>278.019424</td>\n",
       "      <td>380.405303</td>\n",
       "      <td>320.557345</td>\n",
       "      <td>380.743042</td>\n",
       "      <td>310.449771</td>\n",
       "      <td>380.743042</td>\n",
       "      <td>302.621466</td>\n",
       "      <td>380.306818</td>\n",
       "      <td>295.597465</td>\n",
       "      <td>380.208333</td>\n",
       "      <td>288.594333</td>\n",
       "    </tr>\n",
       "    <tr>\n",
       "      <th>2</th>\n",
       "      <td>383.100000</td>\n",
       "      <td>379.100000</td>\n",
       "      <td>373.950000</td>\n",
       "      <td>188.010000</td>\n",
       "      <td>378.548415</td>\n",
       "      <td>321.217857</td>\n",
       "      <td>379.950000</td>\n",
       "      <td>278.000000</td>\n",
       "      <td>378.337121</td>\n",
       "      <td>315.709023</td>\n",
       "      <td>378.463881</td>\n",
       "      <td>309.847593</td>\n",
       "      <td>378.691797</td>\n",
       "      <td>301.216386</td>\n",
       "      <td>379.125000</td>\n",
       "      <td>295.238330</td>\n",
       "      <td>379.223485</td>\n",
       "      <td>286.080388</td>\n",
       "    </tr>\n",
       "    <tr>\n",
       "      <th>3</th>\n",
       "      <td>379.238602</td>\n",
       "      <td>381.156274</td>\n",
       "      <td>374.930000</td>\n",
       "      <td>188.010000</td>\n",
       "      <td>377.155303</td>\n",
       "      <td>323.250858</td>\n",
       "      <td>376.815665</td>\n",
       "      <td>278.019424</td>\n",
       "      <td>377.226377</td>\n",
       "      <td>314.914284</td>\n",
       "      <td>378.008049</td>\n",
       "      <td>309.245416</td>\n",
       "      <td>377.096385</td>\n",
       "      <td>301.216386</td>\n",
       "      <td>377.253788</td>\n",
       "      <td>295.597465</td>\n",
       "      <td>376.859848</td>\n",
       "      <td>287.696495</td>\n",
       "    </tr>\n",
       "    <tr>\n",
       "      <th>4</th>\n",
       "      <td>378.700000</td>\n",
       "      <td>379.270000</td>\n",
       "      <td>374.940000</td>\n",
       "      <td>188.010000</td>\n",
       "      <td>376.495312</td>\n",
       "      <td>316.354012</td>\n",
       "      <td>377.010000</td>\n",
       "      <td>278.000000</td>\n",
       "      <td>377.363281</td>\n",
       "      <td>312.985141</td>\n",
       "      <td>376.640553</td>\n",
       "      <td>306.635981</td>\n",
       "      <td>376.754511</td>\n",
       "      <td>300.614209</td>\n",
       "      <td>376.465909</td>\n",
       "      <td>294.699627</td>\n",
       "      <td>376.958333</td>\n",
       "      <td>287.157793</td>\n",
       "    </tr>\n",
       "  </tbody>\n",
       "</table>\n",
       "</div>"
      ],
      "text/plain": [
       "       body_X      body_Y   nectary_X   nectary_Y  prob_base_X  prob_base_Y  \\\n",
       "0  388.078376  381.614068  372.227746  188.424715   381.619192   323.795071   \n",
       "1  386.810000  386.980000  372.970000  188.000000   381.348241   327.728714   \n",
       "2  383.100000  379.100000  373.950000  188.010000   378.548415   321.217857   \n",
       "3  379.238602  381.156274  374.930000  188.010000   377.155303   323.250858   \n",
       "4  378.700000  379.270000  374.940000  188.010000   376.495312   316.354012   \n",
       "\n",
       "   prob_mid_X  prob_mid_Y    prob_1_X    prob_1_Y    prob_2_X    prob_2_Y  \\\n",
       "0  380.238266  277.537139  381.059690  314.190856  381.198874  307.238159   \n",
       "1  379.416841  278.019424  380.405303  320.557345  380.743042  310.449771   \n",
       "2  379.950000  278.000000  378.337121  315.709023  378.463881  309.847593   \n",
       "3  376.815665  278.019424  377.226377  314.914284  378.008049  309.245416   \n",
       "4  377.010000  278.000000  377.363281  312.985141  376.640553  306.635981   \n",
       "\n",
       "     prob_3_X    prob_3_Y    prob_4_X    prob_4_Y    prob_5_X    prob_5_Y  \n",
       "0  381.084916  300.212757  380.799242  293.442655  380.405303  287.157793  \n",
       "1  380.743042  302.621466  380.306818  295.597465  380.208333  288.594333  \n",
       "2  378.691797  301.216386  379.125000  295.238330  379.223485  286.080388  \n",
       "3  377.096385  301.216386  377.253788  295.597465  376.859848  287.696495  \n",
       "4  376.754511  300.614209  376.465909  294.699627  376.958333  287.157793  "
      ]
     },
     "execution_count": 4,
     "metadata": {},
     "output_type": "execute_result"
    }
   ],
   "source": [
    "trackPoints = pd.read_csv('./dataFolder/MV_m1_points.csv')\n",
    "trackPoints.head()"
   ]
  },
  {
   "cell_type": "code",
   "execution_count": 5,
   "id": "9b212965",
   "metadata": {},
   "outputs": [],
   "source": [
    "body =  trackPoints.loc[:, ['body_X', 'body_Y']].values\n",
    "prob_base = trackPoints.loc[:, ['prob_base_X', 'prob_base_Y']].values\n",
    "\n",
    "BodyHeadVector = prob_base - body"
   ]
  },
  {
   "cell_type": "markdown",
   "id": "ca047be6",
   "metadata": {},
   "source": [
    "### Method Ia - get the slope, compute the tangent at the base"
   ]
  },
  {
   "cell_type": "code",
   "execution_count": 6,
   "id": "6c9ac24d",
   "metadata": {},
   "outputs": [],
   "source": [
    "# compute the tangent at the curve at point x,y\n",
    "def getTangentCurve(x,y,p):\n",
    "    fittedParameters = np.poly1d(p)\n",
    "    deriv = np.polyder(fittedParameters)\n",
    "    pointVal = y[0]\n",
    "    #create the tangent line\n",
    "    line_y = [pointVal - 2, pointVal, pointVal + 2]\n",
    "    line_x = np.polyval(fittedParameters, line_y)\n",
    "    return(line_x, line_y)"
   ]
  },
  {
   "cell_type": "code",
   "execution_count": 7,
   "id": "059baaaf",
   "metadata": {},
   "outputs": [],
   "source": [
    "def MakeFigureForFit(x, y, p, ax, x_tang, y_tang):\n",
    "    ax.plot(x, y, '.b', p(y),y,'-k')\n",
    "    ax.plot(x_tang, y_tang, '-r')\n",
    "    ax.set_xlim([x.min()-10,x.max() + 10])\n",
    "    ax.set_ylim([y.min() -10, y.max() + 10])\n",
    "    return()"
   ]
  },
  {
   "cell_type": "code",
   "execution_count": 8,
   "id": "ad67a81a",
   "metadata": {},
   "outputs": [],
   "source": [
    "# save images in folder\n",
    "\n",
    "folder = './dataFolder/errorSignal/polyFitMethod/'"
   ]
  },
  {
   "cell_type": "code",
   "execution_count": 7,
   "id": "2d28adb3",
   "metadata": {},
   "outputs": [
    {
     "data": {
      "image/png": "[encoded data removed]",
      "text/plain": [
       "<Figure size 432x288 with 1 Axes>"
      ]
     },
     "metadata": {
      "needs_background": "light"
     },
     "output_type": "display_data"
    }
   ],
   "source": [
    "# plot this tangent at the curve\n",
    "import matplotlib.pyplot as plt\n",
    "f = plt.figure()\n",
    "ax = f.add_axes([0.3, 0.3, 0.7, 0.7])\n",
    "\n",
    "for ii, p in enumerate(p_fit):\n",
    "    x = X_arr.loc[ii,:].values\n",
    "    y = Y_arr.loc[ii,:].values\n",
    "    x_tang, y_tang = getTangentCurve(x,y,p)\n",
    "    \n",
    "    MakeFigureForFit(x,y,np.poly1d(p),ax, x_tang, y_tang)\n",
    "    figname = str(ii).zfill(4) + '.png'\n",
    "    plt.savefig(folder + figname)\n",
    "\n",
    "    plt.cla()"
   ]
  },
  {
   "cell_type": "code",
   "execution_count": 18,
   "id": "1fd135fa",
   "metadata": {},
   "outputs": [],
   "source": [
    "# export the tangent line for plotting on figure\n",
    "\n",
    "def getTangentCurveForFigure(x,y,p):\n",
    "    fittedParameters = np.poly1d(p)\n",
    "    deriv = np.polyder(fittedParameters)\n",
    "    pointVal = y[0]\n",
    "    #create the tangent line\n",
    "    line_y = [pointVal - 20, pointVal]\n",
    "    line_x = np.polyval(fittedParameters, line_y)\n",
    "    return(line_x, line_y)\n",
    "\n",
    "\n",
    "tangent_x = []\n",
    "tangent_y = []\n",
    "\n",
    "for ii, p in enumerate(p_fit):\n",
    "    x = X_arr.loc[ii,:].values\n",
    "    y = Y_arr.loc[ii,:].values\n",
    "    x_tang, y_tang = getTangentCurveForFigure(x,y,p)\n",
    "    tangent_x.append(x_tang)\n",
    "    tangent_y.append(y_tang)\n",
    "\n",
    "path = './dataFolder/errorSignal/'\n",
    "np.save(path + 'tangent_x.npy', tangent_x)\n",
    "np.save(path + 'tangent_y.npy', tangent_y)"
   ]
  },
  {
   "cell_type": "code",
   "execution_count": 13,
   "id": "b5e18093",
   "metadata": {},
   "outputs": [
    {
     "ename": "SyntaxError",
     "evalue": "'[' was never closed (3385152520.py, line 6)",
     "output_type": "error",
     "traceback": [
      "\u001b[1;36m  Cell \u001b[1;32mIn[13], line 6\u001b[1;36m\u001b[0m\n\u001b[1;33m    firLine = [x_tang[1]-x_tang[0], y_tang[0]\u001b[0m\n\u001b[1;37m              ^\u001b[0m\n\u001b[1;31mSyntaxError\u001b[0m\u001b[1;31m:\u001b[0m '[' was never closed\n"
     ]
    }
   ],
   "source": [
    "fitLine = []\n",
    "for ii, p in enumerate(p_fit):\n",
    "    x = X_arr.loc[ii,:].values\n",
    "    y = Y_arr.loc[ii,:].values\n",
    "    x_tang, y_tang = getTangentCurve(x,y,p)\n",
    "    firLine = [x_tang[1]-x_tang[0], y_tang[0]\n",
    "    Tangent.append(tangent_pt)\n",
    "\n",
    "Tangent = np.array(Tangent)\n",
    "probVector = Tangent - prob_base"
   ]
  },
  {
   "cell_type": "code",
   "execution_count": 61,
   "id": "9be51cf6",
   "metadata": {},
   "outputs": [],
   "source": [
    "angle = []\n",
    "for ii, pvec in enumerate(probVector):\n",
    "    aa = np.arctan2(np.cross(pvec, BodyHeadVector[ii]), np.dot(pvec, BodyHeadVector[ii]))\n",
    "    angle.append(aa)\n",
    "    \n",
    "pd.Series(data = angle).to_csv('./dataFolder/errorSignal/Polyfit_errorAngle.csv')"
   ]
  },
  {
   "cell_type": "markdown",
   "id": "6adbf748",
   "metadata": {},
   "source": [
    "### Method Ib - get the line joining the first two points computed by the slope"
   ]
  },
  {
   "cell_type": "code",
   "execution_count": 71,
   "id": "28d918a9",
   "metadata": {},
   "outputs": [],
   "source": [
    "# compute the tangent at the curve at point x,y\n",
    "def evaluteCurveAtY(x,y,p):\n",
    "    fittedParameters = np.poly1d(p)\n",
    "    deriv = np.polyder(fittedParameters)\n",
    "    pointVal0 = y[0]\n",
    "    pointVal1 = y[1]\n",
    "    #create the tangent line\n",
    "    line_y = [pointVal0, pointVal1]\n",
    "    line_x = np.polyval(fittedParameters, line_y)\n",
    "    return(line_x, line_y)"
   ]
  },
  {
   "cell_type": "code",
   "execution_count": 82,
   "id": "7b0e02c6",
   "metadata": {},
   "outputs": [],
   "source": [
    "x_line = []\n",
    "y_line = []\n",
    "for ii, p in enumerate(p_fit):\n",
    "    x = X_arr.loc[ii,:].values\n",
    "    y = Y_arr.loc[ii,:].values\n",
    "    x_, y_ = evaluteCurveAtY(x,y,p)\n",
    "    x_line.append(x_[1] - x_[0])\n",
    "    y_line.append(y_[1] - y_[0])\n",
    "\n",
    "probVector = np.transpose([x_line, y_line])"
   ]
  },
  {
   "cell_type": "code",
   "execution_count": 87,
   "id": "b10d3d84",
   "metadata": {},
   "outputs": [],
   "source": [
    "angle = []\n",
    "for ii, pvec in enumerate(probVector):\n",
    "    aa = np.arctan2(np.cross(pvec, BodyHeadVector[ii]), np.dot(pvec, BodyHeadVector[ii]))\n",
    "    angle.append(aa)\n",
    "    \n",
    "pd.Series(data = angle).to_csv('./dataFolder/errorSignal/CurvePoints_errorAngle.csv')"
   ]
  },
  {
   "cell_type": "code",
   "execution_count": 86,
   "id": "80ec512a",
   "metadata": {},
   "outputs": [
    {
     "data": {
      "text/plain": [
       "[<matplotlib.lines.Line2D at 0x212121a3710>]"
      ]
     },
     "execution_count": 86,
     "metadata": {},
     "output_type": "execute_result"
    },
    {
     "data": {
      "image/png": "[encoded data removed]",
      "text/plain": [
       "<Figure size 432x288 with 1 Axes>"
      ]
     },
     "metadata": {
      "needs_background": "light"
     },
     "output_type": "display_data"
    }
   ],
   "source": [
    "plt.plot(np.array(angle)*180/np.pi)"
   ]
  },
  {
   "cell_type": "markdown",
   "id": "24fd1a78",
   "metadata": {},
   "source": [
    "### Method II - get the line joiinig the first two digitized points"
   ]
  },
  {
   "cell_type": "code",
   "execution_count": 63,
   "id": "52ad364d",
   "metadata": {},
   "outputs": [],
   "source": [
    "prob_2ndPoint = trackPoints.loc[:, ['prob_1_X', 'prob_1_Y']].values\n",
    "probVector = prob_2ndPoint - prob_base"
   ]
  },
  {
   "cell_type": "code",
   "execution_count": 67,
   "id": "b88d6720",
   "metadata": {},
   "outputs": [],
   "source": [
    "angle = []\n",
    "for ii, pvec in enumerate(probVector):\n",
    "    aa = np.arctan2(np.cross(pvec, BodyHeadVector[ii]), np.dot(pvec, BodyHeadVector[ii]))\n",
    "    angle.append(aa)\n",
    "    \n",
    "pd.Series(data = angle).to_csv('./dataFolder/errorSignal/Digitized_errorAngle.csv')"
   ]
  },
  {
   "cell_type": "code",
   "execution_count": 66,
   "id": "e9e22351",
   "metadata": {},
   "outputs": [
    {
     "data": {
      "text/plain": [
       "[<matplotlib.lines.Line2D at 0x212124cad30>]"
      ]
     },
     "execution_count": 66,
     "metadata": {},
     "output_type": "execute_result"
    },
    {
     "data": {
      "image/png": "[encoded data removed]",
      "text/plain": [
       "<Figure size 432x288 with 1 Axes>"
      ]
     },
     "metadata": {
      "needs_background": "light"
     },
     "output_type": "display_data"
    }
   ],
   "source": [
    "plt.plot(np.array(angle)*180/np.pi)"
   ]
  }
 ],
 "metadata": {
  "kernelspec": {
   "display_name": "Python 3 (ipykernel)",
   "language": "python",
   "name": "python3"
  },
  "language_info": {
   "codemirror_mode": {
    "name": "ipython",
    "version": 3
   },
   "file_extension": ".py",
   "mimetype": "text/x-python",
   "name": "python",
   "nbconvert_exporter": "python",
   "pygments_lexer": "ipython3",
   "version": "3.10.9"
  }
 },
 "nbformat": 4,
 "nbformat_minor": 5
}
