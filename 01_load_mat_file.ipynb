{
 "cells": [
  {
   "cell_type": "code",
   "execution_count": 1,
   "id": "7443f9cf",
   "metadata": {},
   "outputs": [],
   "source": [
    "import pandas as pd\n",
    "import scipy.io\n",
    "import numpy as np\n",
    "import matplotlib.pyplot as plt\n",
    "import os"
   ]
  },
  {
   "cell_type": "code",
   "execution_count": 2,
   "id": "a1342e48",
   "metadata": {},
   "outputs": [],
   "source": [
    "df = pd.read_csv('./dataFolder/DLTdv8_data_MV_m1xypts.csv')"
   ]
  },
  {
   "cell_type": "code",
   "execution_count": 3,
   "id": "53c7282c",
   "metadata": {},
   "outputs": [
    {
     "data": {
      "text/html": [
       "<div>\n",
       "<style scoped>\n",
       "    .dataframe tbody tr th:only-of-type {\n",
       "        vertical-align: middle;\n",
       "    }\n",
       "\n",
       "    .dataframe tbody tr th {\n",
       "        vertical-align: top;\n",
       "    }\n",
       "\n",
       "    .dataframe thead th {\n",
       "        text-align: right;\n",
       "    }\n",
       "</style>\n",
       "<table border=\"1\" class=\"dataframe\">\n",
       "  <thead>\n",
       "    <tr style=\"text-align: right;\">\n",
       "      <th></th>\n",
       "      <th>pt1_cam1_X</th>\n",
       "      <th>pt1_cam1_Y</th>\n",
       "      <th>pt2_cam1_X</th>\n",
       "      <th>pt2_cam1_Y</th>\n",
       "      <th>pt3_cam1_X</th>\n",
       "      <th>pt3_cam1_Y</th>\n",
       "      <th>pt4_cam1_X</th>\n",
       "      <th>pt4_cam1_Y</th>\n",
       "      <th>pt5_cam1_X</th>\n",
       "      <th>pt5_cam1_Y</th>\n",
       "      <th>pt6_cam1_X</th>\n",
       "      <th>pt6_cam1_Y</th>\n",
       "      <th>pt7_cam1_X</th>\n",
       "      <th>pt7_cam1_Y</th>\n",
       "      <th>pt8_cam1_X</th>\n",
       "      <th>pt8_cam1_Y</th>\n",
       "      <th>pt9_cam1_X</th>\n",
       "      <th>pt9_cam1_Y</th>\n",
       "    </tr>\n",
       "  </thead>\n",
       "  <tbody>\n",
       "    <tr>\n",
       "      <th>0</th>\n",
       "      <td>388.078376</td>\n",
       "      <td>381.614068</td>\n",
       "      <td>372.227746</td>\n",
       "      <td>188.424715</td>\n",
       "      <td>381.619192</td>\n",
       "      <td>323.795071</td>\n",
       "      <td>380.238266</td>\n",
       "      <td>277.537139</td>\n",
       "      <td>381.059690</td>\n",
       "      <td>314.190856</td>\n",
       "      <td>381.198874</td>\n",
       "      <td>307.238159</td>\n",
       "      <td>381.084916</td>\n",
       "      <td>300.212757</td>\n",
       "      <td>380.799242</td>\n",
       "      <td>293.442655</td>\n",
       "      <td>380.405303</td>\n",
       "      <td>287.157793</td>\n",
       "    </tr>\n",
       "    <tr>\n",
       "      <th>1</th>\n",
       "      <td>386.810000</td>\n",
       "      <td>386.980000</td>\n",
       "      <td>372.970000</td>\n",
       "      <td>188.000000</td>\n",
       "      <td>381.348241</td>\n",
       "      <td>327.728714</td>\n",
       "      <td>379.416841</td>\n",
       "      <td>278.019424</td>\n",
       "      <td>380.405303</td>\n",
       "      <td>320.557345</td>\n",
       "      <td>380.743042</td>\n",
       "      <td>310.449771</td>\n",
       "      <td>380.743042</td>\n",
       "      <td>302.621466</td>\n",
       "      <td>380.306818</td>\n",
       "      <td>295.597465</td>\n",
       "      <td>380.208333</td>\n",
       "      <td>288.594333</td>\n",
       "    </tr>\n",
       "    <tr>\n",
       "      <th>2</th>\n",
       "      <td>383.100000</td>\n",
       "      <td>379.100000</td>\n",
       "      <td>373.950000</td>\n",
       "      <td>188.010000</td>\n",
       "      <td>378.548415</td>\n",
       "      <td>321.217857</td>\n",
       "      <td>379.950000</td>\n",
       "      <td>278.000000</td>\n",
       "      <td>378.337121</td>\n",
       "      <td>315.709023</td>\n",
       "      <td>378.463881</td>\n",
       "      <td>309.847593</td>\n",
       "      <td>378.691797</td>\n",
       "      <td>301.216386</td>\n",
       "      <td>379.125000</td>\n",
       "      <td>295.238330</td>\n",
       "      <td>379.223485</td>\n",
       "      <td>286.080388</td>\n",
       "    </tr>\n",
       "    <tr>\n",
       "      <th>3</th>\n",
       "      <td>379.238602</td>\n",
       "      <td>381.156274</td>\n",
       "      <td>374.930000</td>\n",
       "      <td>188.010000</td>\n",
       "      <td>377.155303</td>\n",
       "      <td>323.250858</td>\n",
       "      <td>376.815665</td>\n",
       "      <td>278.019424</td>\n",
       "      <td>377.226377</td>\n",
       "      <td>314.914284</td>\n",
       "      <td>378.008049</td>\n",
       "      <td>309.245416</td>\n",
       "      <td>377.096385</td>\n",
       "      <td>301.216386</td>\n",
       "      <td>377.253788</td>\n",
       "      <td>295.597465</td>\n",
       "      <td>376.859848</td>\n",
       "      <td>287.696495</td>\n",
       "    </tr>\n",
       "    <tr>\n",
       "      <th>4</th>\n",
       "      <td>378.700000</td>\n",
       "      <td>379.270000</td>\n",
       "      <td>374.940000</td>\n",
       "      <td>188.010000</td>\n",
       "      <td>376.495312</td>\n",
       "      <td>316.354012</td>\n",
       "      <td>377.010000</td>\n",
       "      <td>278.000000</td>\n",
       "      <td>377.363281</td>\n",
       "      <td>312.985141</td>\n",
       "      <td>376.640553</td>\n",
       "      <td>306.635981</td>\n",
       "      <td>376.754511</td>\n",
       "      <td>300.614209</td>\n",
       "      <td>376.465909</td>\n",
       "      <td>294.699627</td>\n",
       "      <td>376.958333</td>\n",
       "      <td>287.157793</td>\n",
       "    </tr>\n",
       "  </tbody>\n",
       "</table>\n",
       "</div>"
      ],
      "text/plain": [
       "   pt1_cam1_X  pt1_cam1_Y  pt2_cam1_X  pt2_cam1_Y  pt3_cam1_X  pt3_cam1_Y  \\\n",
       "0  388.078376  381.614068  372.227746  188.424715  381.619192  323.795071   \n",
       "1  386.810000  386.980000  372.970000  188.000000  381.348241  327.728714   \n",
       "2  383.100000  379.100000  373.950000  188.010000  378.548415  321.217857   \n",
       "3  379.238602  381.156274  374.930000  188.010000  377.155303  323.250858   \n",
       "4  378.700000  379.270000  374.940000  188.010000  376.495312  316.354012   \n",
       "\n",
       "   pt4_cam1_X  pt4_cam1_Y  pt5_cam1_X  pt5_cam1_Y  pt6_cam1_X  pt6_cam1_Y  \\\n",
       "0  380.238266  277.537139  381.059690  314.190856  381.198874  307.238159   \n",
       "1  379.416841  278.019424  380.405303  320.557345  380.743042  310.449771   \n",
       "2  379.950000  278.000000  378.337121  315.709023  378.463881  309.847593   \n",
       "3  376.815665  278.019424  377.226377  314.914284  378.008049  309.245416   \n",
       "4  377.010000  278.000000  377.363281  312.985141  376.640553  306.635981   \n",
       "\n",
       "   pt7_cam1_X  pt7_cam1_Y  pt8_cam1_X  pt8_cam1_Y  pt9_cam1_X  pt9_cam1_Y  \n",
       "0  381.084916  300.212757  380.799242  293.442655  380.405303  287.157793  \n",
       "1  380.743042  302.621466  380.306818  295.597465  380.208333  288.594333  \n",
       "2  378.691797  301.216386  379.125000  295.238330  379.223485  286.080388  \n",
       "3  377.096385  301.216386  377.253788  295.597465  376.859848  287.696495  \n",
       "4  376.754511  300.614209  376.465909  294.699627  376.958333  287.157793  "
      ]
     },
     "execution_count": 3,
     "metadata": {},
     "output_type": "execute_result"
    }
   ],
   "source": [
    "df.head()"
   ]
  },
  {
   "cell_type": "code",
   "execution_count": 4,
   "id": "41d17dcc",
   "metadata": {},
   "outputs": [],
   "source": [
    "key = {'pt1':'body',\n",
    "      'pt2':'nectary',\n",
    "      'pt3':'prob_base',\n",
    "      'pt4':'prob_mid',\n",
    "      'pt5':'prob_1',\n",
    "       'pt6':'prob_2',\n",
    "       'pt7':'prob_3',\n",
    "       'pt8':'prob_4',\n",
    "       'pt9':'prob_5'}"
   ]
  },
  {
   "cell_type": "code",
   "execution_count": 5,
   "id": "978ff4b3",
   "metadata": {},
   "outputs": [],
   "source": [
    "col = []\n",
    "for item in df.columns:\n",
    "    a,b, c = item.split('_')\n",
    "    new_a = key[a]\n",
    "    new_c = c\n",
    "    c = new_a + '_' + new_c\n",
    "    col.append(c)"
   ]
  },
  {
   "cell_type": "code",
   "execution_count": 6,
   "id": "5872e58d",
   "metadata": {},
   "outputs": [],
   "source": [
    "df.columns = col"
   ]
  },
  {
   "cell_type": "code",
   "execution_count": 7,
   "id": "ae00ee62",
   "metadata": {},
   "outputs": [
    {
     "data": {
      "text/html": [
       "<div>\n",
       "<style scoped>\n",
       "    .dataframe tbody tr th:only-of-type {\n",
       "        vertical-align: middle;\n",
       "    }\n",
       "\n",
       "    .dataframe tbody tr th {\n",
       "        vertical-align: top;\n",
       "    }\n",
       "\n",
       "    .dataframe thead th {\n",
       "        text-align: right;\n",
       "    }\n",
       "</style>\n",
       "<table border=\"1\" class=\"dataframe\">\n",
       "  <thead>\n",
       "    <tr style=\"text-align: right;\">\n",
       "      <th></th>\n",
       "      <th>body_X</th>\n",
       "      <th>body_Y</th>\n",
       "      <th>nectary_X</th>\n",
       "      <th>nectary_Y</th>\n",
       "      <th>prob_base_X</th>\n",
       "      <th>prob_base_Y</th>\n",
       "      <th>prob_mid_X</th>\n",
       "      <th>prob_mid_Y</th>\n",
       "      <th>prob_1_X</th>\n",
       "      <th>prob_1_Y</th>\n",
       "      <th>prob_2_X</th>\n",
       "      <th>prob_2_Y</th>\n",
       "      <th>prob_3_X</th>\n",
       "      <th>prob_3_Y</th>\n",
       "      <th>prob_4_X</th>\n",
       "      <th>prob_4_Y</th>\n",
       "      <th>prob_5_X</th>\n",
       "      <th>prob_5_Y</th>\n",
       "    </tr>\n",
       "  </thead>\n",
       "  <tbody>\n",
       "    <tr>\n",
       "      <th>0</th>\n",
       "      <td>388.078376</td>\n",
       "      <td>381.614068</td>\n",
       "      <td>372.227746</td>\n",
       "      <td>188.424715</td>\n",
       "      <td>381.619192</td>\n",
       "      <td>323.795071</td>\n",
       "      <td>380.238266</td>\n",
       "      <td>277.537139</td>\n",
       "      <td>381.059690</td>\n",
       "      <td>314.190856</td>\n",
       "      <td>381.198874</td>\n",
       "      <td>307.238159</td>\n",
       "      <td>381.084916</td>\n",
       "      <td>300.212757</td>\n",
       "      <td>380.799242</td>\n",
       "      <td>293.442655</td>\n",
       "      <td>380.405303</td>\n",
       "      <td>287.157793</td>\n",
       "    </tr>\n",
       "    <tr>\n",
       "      <th>1</th>\n",
       "      <td>386.810000</td>\n",
       "      <td>386.980000</td>\n",
       "      <td>372.970000</td>\n",
       "      <td>188.000000</td>\n",
       "      <td>381.348241</td>\n",
       "      <td>327.728714</td>\n",
       "      <td>379.416841</td>\n",
       "      <td>278.019424</td>\n",
       "      <td>380.405303</td>\n",
       "      <td>320.557345</td>\n",
       "      <td>380.743042</td>\n",
       "      <td>310.449771</td>\n",
       "      <td>380.743042</td>\n",
       "      <td>302.621466</td>\n",
       "      <td>380.306818</td>\n",
       "      <td>295.597465</td>\n",
       "      <td>380.208333</td>\n",
       "      <td>288.594333</td>\n",
       "    </tr>\n",
       "    <tr>\n",
       "      <th>2</th>\n",
       "      <td>383.100000</td>\n",
       "      <td>379.100000</td>\n",
       "      <td>373.950000</td>\n",
       "      <td>188.010000</td>\n",
       "      <td>378.548415</td>\n",
       "      <td>321.217857</td>\n",
       "      <td>379.950000</td>\n",
       "      <td>278.000000</td>\n",
       "      <td>378.337121</td>\n",
       "      <td>315.709023</td>\n",
       "      <td>378.463881</td>\n",
       "      <td>309.847593</td>\n",
       "      <td>378.691797</td>\n",
       "      <td>301.216386</td>\n",
       "      <td>379.125000</td>\n",
       "      <td>295.238330</td>\n",
       "      <td>379.223485</td>\n",
       "      <td>286.080388</td>\n",
       "    </tr>\n",
       "    <tr>\n",
       "      <th>3</th>\n",
       "      <td>379.238602</td>\n",
       "      <td>381.156274</td>\n",
       "      <td>374.930000</td>\n",
       "      <td>188.010000</td>\n",
       "      <td>377.155303</td>\n",
       "      <td>323.250858</td>\n",
       "      <td>376.815665</td>\n",
       "      <td>278.019424</td>\n",
       "      <td>377.226377</td>\n",
       "      <td>314.914284</td>\n",
       "      <td>378.008049</td>\n",
       "      <td>309.245416</td>\n",
       "      <td>377.096385</td>\n",
       "      <td>301.216386</td>\n",
       "      <td>377.253788</td>\n",
       "      <td>295.597465</td>\n",
       "      <td>376.859848</td>\n",
       "      <td>287.696495</td>\n",
       "    </tr>\n",
       "    <tr>\n",
       "      <th>4</th>\n",
       "      <td>378.700000</td>\n",
       "      <td>379.270000</td>\n",
       "      <td>374.940000</td>\n",
       "      <td>188.010000</td>\n",
       "      <td>376.495312</td>\n",
       "      <td>316.354012</td>\n",
       "      <td>377.010000</td>\n",
       "      <td>278.000000</td>\n",
       "      <td>377.363281</td>\n",
       "      <td>312.985141</td>\n",
       "      <td>376.640553</td>\n",
       "      <td>306.635981</td>\n",
       "      <td>376.754511</td>\n",
       "      <td>300.614209</td>\n",
       "      <td>376.465909</td>\n",
       "      <td>294.699627</td>\n",
       "      <td>376.958333</td>\n",
       "      <td>287.157793</td>\n",
       "    </tr>\n",
       "  </tbody>\n",
       "</table>\n",
       "</div>"
      ],
      "text/plain": [
       "       body_X      body_Y   nectary_X   nectary_Y  prob_base_X  prob_base_Y  \\\n",
       "0  388.078376  381.614068  372.227746  188.424715   381.619192   323.795071   \n",
       "1  386.810000  386.980000  372.970000  188.000000   381.348241   327.728714   \n",
       "2  383.100000  379.100000  373.950000  188.010000   378.548415   321.217857   \n",
       "3  379.238602  381.156274  374.930000  188.010000   377.155303   323.250858   \n",
       "4  378.700000  379.270000  374.940000  188.010000   376.495312   316.354012   \n",
       "\n",
       "   prob_mid_X  prob_mid_Y    prob_1_X    prob_1_Y    prob_2_X    prob_2_Y  \\\n",
       "0  380.238266  277.537139  381.059690  314.190856  381.198874  307.238159   \n",
       "1  379.416841  278.019424  380.405303  320.557345  380.743042  310.449771   \n",
       "2  379.950000  278.000000  378.337121  315.709023  378.463881  309.847593   \n",
       "3  376.815665  278.019424  377.226377  314.914284  378.008049  309.245416   \n",
       "4  377.010000  278.000000  377.363281  312.985141  376.640553  306.635981   \n",
       "\n",
       "     prob_3_X    prob_3_Y    prob_4_X    prob_4_Y    prob_5_X    prob_5_Y  \n",
       "0  381.084916  300.212757  380.799242  293.442655  380.405303  287.157793  \n",
       "1  380.743042  302.621466  380.306818  295.597465  380.208333  288.594333  \n",
       "2  378.691797  301.216386  379.125000  295.238330  379.223485  286.080388  \n",
       "3  377.096385  301.216386  377.253788  295.597465  376.859848  287.696495  \n",
       "4  376.754511  300.614209  376.465909  294.699627  376.958333  287.157793  "
      ]
     },
     "execution_count": 7,
     "metadata": {},
     "output_type": "execute_result"
    }
   ],
   "source": [
    "df.head()"
   ]
  },
  {
   "cell_type": "code",
   "execution_count": 9,
   "id": "e6af659b",
   "metadata": {},
   "outputs": [],
   "source": [
    "df.to_csv('./dataFolder/MV_m1_points.csv', index = False)"
   ]
  },
  {
   "cell_type": "code",
   "execution_count": 8,
   "id": "f52f2193",
   "metadata": {},
   "outputs": [],
   "source": [
    "key_color = {'body': 'lime',\n",
    "             'nectary': 'lime',\n",
    "             'prob_base': 'darkred',\n",
    "             'prob_mid': 'mistyrose',\n",
    "             'prob_1': 'firebrick',\n",
    "             'prob_2': 'red',\n",
    "             'prob_3': 'indianred',\n",
    "             'prob_4': 'salmon',\n",
    "             'prob_5': 'lightsalmon'}"
   ]
  },
  {
   "cell_type": "code",
   "execution_count": 12,
   "id": "41f26e04",
   "metadata": {},
   "outputs": [],
   "source": [
    "tt= []\n",
    "for k in key_color.keys():\n",
    "    tt_ = matplotlib.colors.to_rgb(key_color[k])\n",
    "    tt_new = [int(i * 255) for i in tt_]\n",
    "#     tt_ = tt_.*2\n",
    "    tt.append(tt_new)"
   ]
  },
  {
   "cell_type": "code",
   "execution_count": 14,
   "id": "4765ccfd",
   "metadata": {},
   "outputs": [
    {
     "data": {
      "text/plain": [
       "[[0, 255, 0],\n",
       " [0, 255, 0],\n",
       " [139, 0, 0],\n",
       " [255, 228, 225],\n",
       " [178, 34, 34],\n",
       " [255, 0, 0],\n",
       " [205, 92, 92],\n",
       " [250, 128, 114],\n",
       " [255, 160, 122]]"
      ]
     },
     "execution_count": 14,
     "metadata": {},
     "output_type": "execute_result"
    }
   ],
   "source": [
    "tt"
   ]
  },
  {
   "cell_type": "code",
   "execution_count": 15,
   "id": "f7a0d84f",
   "metadata": {},
   "outputs": [],
   "source": [
    "# import matplotlib.pyplot as plt\n",
    "import cv2 as cv2"
   ]
  },
  {
   "cell_type": "code",
   "execution_count": 16,
   "id": "9fba4f4d",
   "metadata": {},
   "outputs": [],
   "source": [
    "path_video = r'C:\\Users\\Tanvi\\Dropbox\\Plifer_BehvaiorTrackingData\\MVtracking\\MV_video/'\n",
    "videoname = 'MV_m1_130802_tracked.mp4'"
   ]
  },
  {
   "cell_type": "code",
   "execution_count": 17,
   "id": "ae7f2f84",
   "metadata": {},
   "outputs": [
    {
     "name": "stdout",
     "output_type": "stream",
     "text": [
      "(25.0,) 1000.0 602.0 702.0\n"
     ]
    }
   ],
   "source": [
    "cap = cv2.VideoCapture(path_video + videoname)\n",
    "video_fps = cap.get(cv2.CAP_PROP_FPS),\n",
    "total_frames = cap.get(cv2.CAP_PROP_FRAME_COUNT)\n",
    "height = cap.get(cv2.CAP_PROP_FRAME_HEIGHT)\n",
    "width = cap.get(cv2.CAP_PROP_FRAME_WIDTH)\n",
    "print(video_fps, total_frames, height, width)"
   ]
  },
  {
   "cell_type": "code",
   "execution_count": 18,
   "id": "6da794b6",
   "metadata": {},
   "outputs": [],
   "source": [
    "ff = 0"
   ]
  },
  {
   "cell_type": "code",
   "execution_count": 26,
   "id": "86bda313",
   "metadata": {},
   "outputs": [
    {
     "ename": "TypeError",
     "evalue": "integer argument expected, got float",
     "output_type": "error",
     "traceback": [
      "\u001b[1;31m---------------------------------------------------------------------------\u001b[0m",
      "\u001b[1;31mTypeError\u001b[0m                                 Traceback (most recent call last)",
      "\u001b[1;32m<ipython-input-26-06965187a462>\u001b[0m in \u001b[0;36m<module>\u001b[1;34m\u001b[0m\n\u001b[0;32m     11\u001b[0m         \u001b[0mii\u001b[0m \u001b[1;33m=\u001b[0m \u001b[1;36m0\u001b[0m\u001b[1;33m\u001b[0m\u001b[0m\n\u001b[0;32m     12\u001b[0m \u001b[1;31m#         for xx, yy in zip(x_, y_):\u001b[0m\u001b[1;33m\u001b[0m\u001b[1;33m\u001b[0m\u001b[0m\n\u001b[1;32m---> 13\u001b[1;33m         \u001b[0moverlay\u001b[0m \u001b[1;33m=\u001b[0m \u001b[0mcv2\u001b[0m\u001b[1;33m.\u001b[0m\u001b[0mcircle\u001b[0m\u001b[1;33m(\u001b[0m\u001b[0mframe\u001b[0m\u001b[1;33m,\u001b[0m \u001b[1;33m(\u001b[0m\u001b[0mx_\u001b[0m\u001b[1;33m,\u001b[0m\u001b[0my_\u001b[0m\u001b[1;33m)\u001b[0m\u001b[1;33m,\u001b[0m \u001b[1;36m10\u001b[0m\u001b[1;33m,\u001b[0m \u001b[0mtt\u001b[0m\u001b[1;33m[\u001b[0m\u001b[0mii\u001b[0m\u001b[1;33m]\u001b[0m\u001b[1;33m,\u001b[0m\u001b[1;33m-\u001b[0m\u001b[1;36m1\u001b[0m\u001b[1;33m)\u001b[0m\u001b[1;33m\u001b[0m\u001b[0m\n\u001b[0m\u001b[0;32m     14\u001b[0m         \u001b[0mii\u001b[0m\u001b[1;33m+=\u001b[0m\u001b[1;36m1\u001b[0m\u001b[1;33m\u001b[0m\u001b[0m\n",
      "\u001b[1;31mTypeError\u001b[0m: integer argument expected, got float"
     ]
    }
   ],
   "source": [
    "for ff in [50]:\n",
    "    cap.set(cv2.CAP_PROP_POS_FRAMES, ff)\n",
    "    ret, frame = cap.read()\n",
    "#     plt.imshow(frame)\n",
    "    for k in key:\n",
    "        coord = key[k]\n",
    "        x_ = df.loc[ff, key[k] + '_X']\n",
    "        y_ = df.loc[ff, key[k] + '_Y']\n",
    "        ii = 0\n",
    "        overlay = cv2.circle(frame, (x_,y_), 10, tt[ii],-1)\n",
    "        ii+=1"
   ]
  },
  {
   "cell_type": "code",
   "execution_count": 70,
   "id": "dfb101c5",
   "metadata": {},
   "outputs": [
    {
     "data": {
      "text/plain": [
       "(450.0, 150.0)"
      ]
     },
     "execution_count": 70,
     "metadata": {},
     "output_type": "execute_result"
    },
    {
     "data": {
      "image/png": "[encoded data removed]",
      "text/plain": [
       "<Figure size 432x720 with 1 Axes>"
      ]
     },
     "metadata": {
      "needs_background": "light"
     },
     "output_type": "display_data"
    }
   ],
   "source": [
    "f = plt.figure(figsize = (6,10))\n",
    "\n",
    "for ff in [50]:\n",
    "    cap.set(cv2.CAP_PROP_POS_FRAMES, ff)\n",
    "    ret, frame = cap.read()\n",
    "    plt.imshow(frame)\n",
    "    for k in key:\n",
    "        coord = key[k]\n",
    "        plt.scatter(df.loc[ff, key[k] + '_X'], df.loc[ff, key[k] + '_Y'],\n",
    "                   color = key_color[key[k]])\n",
    "\n",
    "plt.xlim([350,420])\n",
    "plt.ylim([450, 150])"
   ]
  },
  {
   "cell_type": "code",
   "execution_count": 80,
   "id": "68a3052e",
   "metadata": {
    "scrolled": true
   },
   "outputs": [
    {
     "name": "stderr",
     "output_type": "stream",
     "text": [
      "C:\\Users\\Tanvi\\AppData\\Local\\Continuum\\anaconda3\\lib\\site-packages\\ipykernel_launcher.py:7: MatplotlibDeprecationWarning: Adding an axes using the same arguments as a previous axes currently reuses the earlier instance.  In a future version, a new instance will always be created and returned.  Meanwhile, this warning can be suppressed, and the future behavior ensured, by passing a unique label to each axes instance.\n",
      "  import sys\n"
     ]
    },
    {
     "data": {
      "image/png": "[encoded data removed]",
      "text/plain": [
       "<Figure size 432x288 with 1 Axes>"
      ]
     },
     "metadata": {
      "needs_background": "light"
     },
     "output_type": "display_data"
    }
   ],
   "source": [
    "for k in key:\n",
    "    coord = key[k]\n",
    "    plt.scatter(df.loc[ff, key[k] + '_X'], df.loc[ff, key[k] + '_Y'], color = key_color[key[k]])\n",
    "    \n",
    "plt.xlim([388,389.5])\n",
    "plt.ylim([340, 270])\n",
    "ax = plt.axes()\n",
    "ax.set_facecolor(\"black\")"
   ]
  },
  {
   "cell_type": "code",
   "execution_count": 27,
   "id": "51f36fb5",
   "metadata": {},
   "outputs": [],
   "source": [
    "def reorder_columns(string):\n",
    "    list_of_coord = list([column for column in df.columns if string in column and 'prob' in column])\n",
    "    myorder = [0, 2, 3, 4, 5, 6, 1]\n",
    "    mylist = [list_of_coord[i] for i in myorder]\n",
    "    return(mylist)"
   ]
  },
  {
   "cell_type": "code",
   "execution_count": 66,
   "id": "15498e2d",
   "metadata": {},
   "outputs": [
    {
     "data": {
      "image/png": "[encoded data removed]",
      "text/plain": [
       "<Figure size 432x288 with 1 Axes>"
      ]
     },
     "metadata": {
      "needs_background": "light"
     },
     "output_type": "display_data"
    }
   ],
   "source": [
    "f = plt.figure()\n",
    "\n",
    "for r, data in X_arr.iterrows():\n",
    "    \n",
    "    x = data.values\n",
    "    y = Y_arr.loc[r, :].values\n",
    "    xx_ = new_x[r]\n",
    "    yy_ = new_y[r]\n",
    "    \n",
    "    plt.plot(x,y, 'ro')\n",
    "    plt.plot(xx_, yy_, 'r-')\n",
    "    ax = f.axes\n",
    "    ax[0].invert_yaxis()\n",
    "    plt.savefig(os.path.join('./dataFolder/computeInterpolation/', str(r).zfill(3) + '.png'))\n",
    "    plt.cla()"
   ]
  },
  {
   "cell_type": "code",
   "execution_count": null,
   "id": "8365f414",
   "metadata": {},
   "outputs": [],
   "source": [
    "# from scipy import signal\n",
    "\n",
    "# interpol_order = 2 # order for polynomial interpolation\n",
    "\n",
    "# # parameters for the savitzky-golay filter\n",
    "# savgol_win = 11\n",
    "# savgol_polyorder = 3\n",
    "\n",
    "# new_x = signal.savgol_filter(X_arr,\n",
    "#                               window_length=savgol_win,\n",
    "#                               polyorder=savgol_polyorder,\n",
    "#                               axis=0)\n",
    "\n",
    "# new_y = signal.savgol_filter(Y_arr,\n",
    "#                               window_length=savgol_win,\n",
    "#                               polyorder=savgol_polyorder,\n",
    "#                               axis=0)\n",
    "\n",
    "# plt.plot(x,y, 'ro')\n",
    "# plt.plot(x, y, 'r-')"
   ]
  },
  {
   "cell_type": "code",
   "execution_count": null,
   "id": "e1e955e2",
   "metadata": {},
   "outputs": [],
   "source": []
  }
 ],
 "metadata": {
  "kernelspec": {
   "display_name": "Python 3 (ipykernel)",
   "language": "python",
   "name": "python3"
  },
  "language_info": {
   "codemirror_mode": {
    "name": "ipython",
    "version": 3
   },
   "file_extension": ".py",
   "mimetype": "text/x-python",
   "name": "python",
   "nbconvert_exporter": "python",
   "pygments_lexer": "ipython3",
   "version": "3.10.9"
  }
 },
 "nbformat": 4,
 "nbformat_minor": 5
}
