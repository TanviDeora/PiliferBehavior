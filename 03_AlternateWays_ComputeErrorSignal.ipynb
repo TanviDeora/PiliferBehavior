{
 "cells": [
  {
   "cell_type": "code",
   "execution_count": 1,
   "id": "5bafde84",
   "metadata": {},
   "outputs": [],
   "source": [
    "import numpy as np\n",
    "import pandas as pd"
   ]
  },
  {
   "cell_type": "code",
   "execution_count": 2,
   "id": "af38ac76",
   "metadata": {},
   "outputs": [],
   "source": [
    "# pull up the polyfit variables and x, y positions\n",
    "\n",
    "p_fit = np.load('./dataFolder/3DpolyfitVariables.npy') #load the coefficients of the polyfit\n",
    "X_arr = pd.read_csv('./dataFolder/x_proboscis_ordered')\n",
    "X_arr = X_arr.drop(['Unnamed: 0'], axis=1)\n",
    "Y_arr = pd.read_csv('./dataFolder/y_proboscis_ordered')\n",
    "Y_arr = Y_arr.drop(['Unnamed: 0'], axis=1)"
   ]
  },
  {
   "cell_type": "code",
   "execution_count": 3,
   "id": "2fd845de",
   "metadata": {},
   "outputs": [
    {
     "data": {
      "text/plain": [
       "(1000, 1000)"
      ]
     },
     "execution_count": 3,
     "metadata": {},
     "output_type": "execute_result"
    }
   ],
   "source": [
    "len(p_fit), len(X_arr)"
   ]
  },
  {
   "cell_type": "code",
   "execution_count": 4,
   "id": "6dd3c57b",
   "metadata": {},
   "outputs": [
    {
     "data": {
      "text/html": [
       "<div>\n",
       "<style scoped>\n",
       "    .dataframe tbody tr th:only-of-type {\n",
       "        vertical-align: middle;\n",
       "    }\n",
       "\n",
       "    .dataframe tbody tr th {\n",
       "        vertical-align: top;\n",
       "    }\n",
       "\n",
       "    .dataframe thead th {\n",
       "        text-align: right;\n",
       "    }\n",
       "</style>\n",
       "<table border=\"1\" class=\"dataframe\">\n",
       "  <thead>\n",
       "    <tr style=\"text-align: right;\">\n",
       "      <th></th>\n",
       "      <th>prob_base_Y</th>\n",
       "      <th>prob_1_Y</th>\n",
       "      <th>prob_2_Y</th>\n",
       "      <th>prob_3_Y</th>\n",
       "      <th>prob_4_Y</th>\n",
       "      <th>prob_5_Y</th>\n",
       "      <th>prob_mid_Y</th>\n",
       "    </tr>\n",
       "  </thead>\n",
       "  <tbody>\n",
       "    <tr>\n",
       "      <th>0</th>\n",
       "      <td>323.795071</td>\n",
       "      <td>314.190856</td>\n",
       "      <td>307.238159</td>\n",
       "      <td>300.212757</td>\n",
       "      <td>293.442655</td>\n",
       "      <td>287.157793</td>\n",
       "      <td>277.537139</td>\n",
       "    </tr>\n",
       "    <tr>\n",
       "      <th>1</th>\n",
       "      <td>327.728714</td>\n",
       "      <td>320.557345</td>\n",
       "      <td>310.449771</td>\n",
       "      <td>302.621466</td>\n",
       "      <td>295.597465</td>\n",
       "      <td>288.594333</td>\n",
       "      <td>278.019424</td>\n",
       "    </tr>\n",
       "    <tr>\n",
       "      <th>2</th>\n",
       "      <td>321.217857</td>\n",
       "      <td>315.709023</td>\n",
       "      <td>309.847593</td>\n",
       "      <td>301.216386</td>\n",
       "      <td>295.238330</td>\n",
       "      <td>286.080388</td>\n",
       "      <td>278.000000</td>\n",
       "    </tr>\n",
       "    <tr>\n",
       "      <th>3</th>\n",
       "      <td>323.250858</td>\n",
       "      <td>314.914284</td>\n",
       "      <td>309.245416</td>\n",
       "      <td>301.216386</td>\n",
       "      <td>295.597465</td>\n",
       "      <td>287.696495</td>\n",
       "      <td>278.019424</td>\n",
       "    </tr>\n",
       "    <tr>\n",
       "      <th>4</th>\n",
       "      <td>316.354012</td>\n",
       "      <td>312.985141</td>\n",
       "      <td>306.635981</td>\n",
       "      <td>300.614209</td>\n",
       "      <td>294.699627</td>\n",
       "      <td>287.157793</td>\n",
       "      <td>278.000000</td>\n",
       "    </tr>\n",
       "  </tbody>\n",
       "</table>\n",
       "</div>"
      ],
      "text/plain": [
       "   prob_base_Y    prob_1_Y    prob_2_Y    prob_3_Y    prob_4_Y    prob_5_Y  \\\n",
       "0   323.795071  314.190856  307.238159  300.212757  293.442655  287.157793   \n",
       "1   327.728714  320.557345  310.449771  302.621466  295.597465  288.594333   \n",
       "2   321.217857  315.709023  309.847593  301.216386  295.238330  286.080388   \n",
       "3   323.250858  314.914284  309.245416  301.216386  295.597465  287.696495   \n",
       "4   316.354012  312.985141  306.635981  300.614209  294.699627  287.157793   \n",
       "\n",
       "   prob_mid_Y  \n",
       "0  277.537139  \n",
       "1  278.019424  \n",
       "2  278.000000  \n",
       "3  278.019424  \n",
       "4  278.000000  "
      ]
     },
     "execution_count": 4,
     "metadata": {},
     "output_type": "execute_result"
    }
   ],
   "source": [
    "Y_arr.head()"
   ]
  },
  {
   "cell_type": "markdown",
   "id": "609ff3df",
   "metadata": {},
   "source": [
    "### compute error angle"
   ]
  },
  {
   "cell_type": "code",
   "execution_count": 5,
   "id": "6ffd28ff",
   "metadata": {},
   "outputs": [
    {
     "data": {
      "text/html": [
       "<div>\n",
       "<style scoped>\n",
       "    .dataframe tbody tr th:only-of-type {\n",
       "        vertical-align: middle;\n",
       "    }\n",
       "\n",
       "    .dataframe tbody tr th {\n",
       "        vertical-align: top;\n",
       "    }\n",
       "\n",
       "    .dataframe thead th {\n",
       "        text-align: right;\n",
       "    }\n",
       "</style>\n",
       "<table border=\"1\" class=\"dataframe\">\n",
       "  <thead>\n",
       "    <tr style=\"text-align: right;\">\n",
       "      <th></th>\n",
       "      <th>body_X</th>\n",
       "      <th>body_Y</th>\n",
       "      <th>nectary_X</th>\n",
       "      <th>nectary_Y</th>\n",
       "      <th>prob_base_X</th>\n",
       "      <th>prob_base_Y</th>\n",
       "      <th>prob_mid_X</th>\n",
       "      <th>prob_mid_Y</th>\n",
       "      <th>prob_1_X</th>\n",
       "      <th>prob_1_Y</th>\n",
       "      <th>prob_2_X</th>\n",
       "      <th>prob_2_Y</th>\n",
       "      <th>prob_3_X</th>\n",
       "      <th>prob_3_Y</th>\n",
       "      <th>prob_4_X</th>\n",
       "      <th>prob_4_Y</th>\n",
       "      <th>prob_5_X</th>\n",
       "      <th>prob_5_Y</th>\n",
       "    </tr>\n",
       "  </thead>\n",
       "  <tbody>\n",
       "    <tr>\n",
       "      <th>0</th>\n",
       "      <td>388.078376</td>\n",
       "      <td>381.614068</td>\n",
       "      <td>372.227746</td>\n",
       "      <td>188.424715</td>\n",
       "      <td>381.619192</td>\n",
       "      <td>323.795071</td>\n",
       "      <td>380.238266</td>\n",
       "      <td>277.537139</td>\n",
       "      <td>381.059690</td>\n",
       "      <td>314.190856</td>\n",
       "      <td>381.198874</td>\n",
       "      <td>307.238159</td>\n",
       "      <td>381.084916</td>\n",
       "      <td>300.212757</td>\n",
       "      <td>380.799242</td>\n",
       "      <td>293.442655</td>\n",
       "      <td>380.405303</td>\n",
       "      <td>287.157793</td>\n",
       "    </tr>\n",
       "    <tr>\n",
       "      <th>1</th>\n",
       "      <td>386.810000</td>\n",
       "      <td>386.980000</td>\n",
       "      <td>372.970000</td>\n",
       "      <td>188.000000</td>\n",
       "      <td>381.348241</td>\n",
       "      <td>327.728714</td>\n",
       "      <td>379.416841</td>\n",
       "      <td>278.019424</td>\n",
       "      <td>380.405303</td>\n",
       "      <td>320.557345</td>\n",
       "      <td>380.743042</td>\n",
       "      <td>310.449771</td>\n",
       "      <td>380.743042</td>\n",
       "      <td>302.621466</td>\n",
       "      <td>380.306818</td>\n",
       "      <td>295.597465</td>\n",
       "      <td>380.208333</td>\n",
       "      <td>288.594333</td>\n",
       "    </tr>\n",
       "    <tr>\n",
       "      <th>2</th>\n",
       "      <td>383.100000</td>\n",
       "      <td>379.100000</td>\n",
       "      <td>373.950000</td>\n",
       "      <td>188.010000</td>\n",
       "      <td>378.548415</td>\n",
       "      <td>321.217857</td>\n",
       "      <td>379.950000</td>\n",
       "      <td>278.000000</td>\n",
       "      <td>378.337121</td>\n",
       "      <td>315.709023</td>\n",
       "      <td>378.463881</td>\n",
       "      <td>309.847593</td>\n",
       "      <td>378.691797</td>\n",
       "      <td>301.216386</td>\n",
       "      <td>379.125000</td>\n",
       "      <td>295.238330</td>\n",
       "      <td>379.223485</td>\n",
       "      <td>286.080388</td>\n",
       "    </tr>\n",
       "    <tr>\n",
       "      <th>3</th>\n",
       "      <td>379.238602</td>\n",
       "      <td>381.156274</td>\n",
       "      <td>374.930000</td>\n",
       "      <td>188.010000</td>\n",
       "      <td>377.155303</td>\n",
       "      <td>323.250858</td>\n",
       "      <td>376.815665</td>\n",
       "      <td>278.019424</td>\n",
       "      <td>377.226377</td>\n",
       "      <td>314.914284</td>\n",
       "      <td>378.008049</td>\n",
       "      <td>309.245416</td>\n",
       "      <td>377.096385</td>\n",
       "      <td>301.216386</td>\n",
       "      <td>377.253788</td>\n",
       "      <td>295.597465</td>\n",
       "      <td>376.859848</td>\n",
       "      <td>287.696495</td>\n",
       "    </tr>\n",
       "    <tr>\n",
       "      <th>4</th>\n",
       "      <td>378.700000</td>\n",
       "      <td>379.270000</td>\n",
       "      <td>374.940000</td>\n",
       "      <td>188.010000</td>\n",
       "      <td>376.495312</td>\n",
       "      <td>316.354012</td>\n",
       "      <td>377.010000</td>\n",
       "      <td>278.000000</td>\n",
       "      <td>377.363281</td>\n",
       "      <td>312.985141</td>\n",
       "      <td>376.640553</td>\n",
       "      <td>306.635981</td>\n",
       "      <td>376.754511</td>\n",
       "      <td>300.614209</td>\n",
       "      <td>376.465909</td>\n",
       "      <td>294.699627</td>\n",
       "      <td>376.958333</td>\n",
       "      <td>287.157793</td>\n",
       "    </tr>\n",
       "  </tbody>\n",
       "</table>\n",
       "</div>"
      ],
      "text/plain": [
       "       body_X      body_Y   nectary_X   nectary_Y  prob_base_X  prob_base_Y  \\\n",
       "0  388.078376  381.614068  372.227746  188.424715   381.619192   323.795071   \n",
       "1  386.810000  386.980000  372.970000  188.000000   381.348241   327.728714   \n",
       "2  383.100000  379.100000  373.950000  188.010000   378.548415   321.217857   \n",
       "3  379.238602  381.156274  374.930000  188.010000   377.155303   323.250858   \n",
       "4  378.700000  379.270000  374.940000  188.010000   376.495312   316.354012   \n",
       "\n",
       "   prob_mid_X  prob_mid_Y    prob_1_X    prob_1_Y    prob_2_X    prob_2_Y  \\\n",
       "0  380.238266  277.537139  381.059690  314.190856  381.198874  307.238159   \n",
       "1  379.416841  278.019424  380.405303  320.557345  380.743042  310.449771   \n",
       "2  379.950000  278.000000  378.337121  315.709023  378.463881  309.847593   \n",
       "3  376.815665  278.019424  377.226377  314.914284  378.008049  309.245416   \n",
       "4  377.010000  278.000000  377.363281  312.985141  376.640553  306.635981   \n",
       "\n",
       "     prob_3_X    prob_3_Y    prob_4_X    prob_4_Y    prob_5_X    prob_5_Y  \n",
       "0  381.084916  300.212757  380.799242  293.442655  380.405303  287.157793  \n",
       "1  380.743042  302.621466  380.306818  295.597465  380.208333  288.594333  \n",
       "2  378.691797  301.216386  379.125000  295.238330  379.223485  286.080388  \n",
       "3  377.096385  301.216386  377.253788  295.597465  376.859848  287.696495  \n",
       "4  376.754511  300.614209  376.465909  294.699627  376.958333  287.157793  "
      ]
     },
     "execution_count": 5,
     "metadata": {},
     "output_type": "execute_result"
    }
   ],
   "source": [
    "trackPoints = pd.read_csv('./dataFolder/MV_m1_points.csv')\n",
    "trackPoints.head()"
   ]
  },
  {
   "cell_type": "code",
   "execution_count": 6,
   "id": "9b212965",
   "metadata": {},
   "outputs": [],
   "source": [
    "body =  trackPoints.loc[:, ['body_X', 'body_Y']].values\n",
    "prob_base = trackPoints.loc[:, ['prob_base_X', 'prob_base_Y']].values\n",
    "\n",
    "BodyHeadVector = prob_base - body"
   ]
  },
  {
   "cell_type": "markdown",
   "id": "ca047be6",
   "metadata": {},
   "source": [
    "### Method Ia - get the slope, compute the tangent at the base"
   ]
  },
  {
   "cell_type": "code",
   "execution_count": 7,
   "id": "6c9ac24d",
   "metadata": {},
   "outputs": [],
   "source": [
    "# compute the tangent at the curve at point x,y\n",
    "def getTangentCurve(x,y,p):\n",
    "    fittedParameters = np.poly1d(p)\n",
    "    deriv = np.polyder(fittedParameters) # this is the derivative of the initial fit polynomial, the derivative at point 0 will be the slope of the tangent\n",
    "    pointVal = y[0] #evaluate the tangent at the base of the proboscis\n",
    "    \n",
    "    #create the tangent line\n",
    "    line_y = [pointVal - 2, pointVal, pointVal + 2] #used 2 pixels beofre and the base to create a line\n",
    "    line_x = np.polyval(np.poly1d(deriv), line_y)\n",
    "    #line_x = np.polyval(fittedParameters, line_y)\n",
    "    return(line_x, line_y)"
   ]
  },
  {
   "cell_type": "code",
   "execution_count": 8,
   "id": "059baaaf",
   "metadata": {},
   "outputs": [],
   "source": [
    "def MakeFigureForFit(x, y, p, ax, x_tang, y_tang):\n",
    "    fittedParameters = np.poly1d(p)\n",
    "    ax.plot(x, y, '.b', fittedParameters(y),y,'-k')\n",
    "    ax.plot(x_tang, y_tang, '-r')\n",
    "    ax.set_xlim([x.min()-10,x.max() + 10])\n",
    "    ax.set_ylim([y.min() -10, y.max() + 10])\n",
    "    return()"
   ]
  },
  {
   "cell_type": "code",
   "execution_count": 10,
   "id": "ad67a81a",
   "metadata": {},
   "outputs": [],
   "source": [
    "# save images in folder\n",
    "\n",
    "folder = './dataFolder/errorSignal/polyFitMethod3/'"
   ]
  },
  {
   "cell_type": "code",
   "execution_count": 15,
   "id": "9d0189c7",
   "metadata": {},
   "outputs": [],
   "source": [
    "line_y = [y[0] - 10, y[0], y[0] + 10]\n",
    "line_x = np.polyval(np.polyder(np.poly1d(p)), line_y)"
   ]
  },
  {
   "cell_type": "code",
   "execution_count": 16,
   "id": "5bf22f54",
   "metadata": {},
   "outputs": [
    {
     "data": {
      "text/plain": [
       "array([331.67015169, 331.62218319, 331.56473078])"
      ]
     },
     "execution_count": 16,
     "metadata": {},
     "output_type": "execute_result"
    }
   ],
   "source": [
    "line_x + x[0]"
   ]
  },
  {
   "cell_type": "code",
   "execution_count": 17,
   "id": "1909d646",
   "metadata": {},
   "outputs": [
    {
     "data": {
      "text/plain": [
       "()"
      ]
     },
     "execution_count": 17,
     "metadata": {},
     "output_type": "execute_result"
    },
    {
     "data": {
      "image/png": "[encoded data removed]",
      "text/plain": [
       "<Figure size 640x480 with 1 Axes>"
      ]
     },
     "metadata": {},
     "output_type": "display_data"
    }
   ],
   "source": [
    "f = plt.figure()\n",
    "ax = f.add_axes([0.3, 0.3, 0.7, 0.7])\n",
    "MakeFigureForFit(x,y,p,ax, x_tang + x[0], y_tang)"
   ]
  },
  {
   "cell_type": "code",
   "execution_count": 14,
   "id": "c9f1badd",
   "metadata": {},
   "outputs": [
    {
     "data": {
      "text/plain": [
       "array([344.028572, 325.704927, 312.858479, 301.694348, 290.749142,\n",
       "       283.925578, 277.537139])"
      ]
     },
     "execution_count": 14,
     "metadata": {},
     "output_type": "execute_result"
    }
   ],
   "source": [
    "y[0] = y[0] + 5\n",
    "y"
   ]
  },
  {
   "cell_type": "code",
   "execution_count": 12,
   "id": "2d28adb3",
   "metadata": {},
   "outputs": [
    {
     "ename": "KeyboardInterrupt",
     "evalue": "",
     "output_type": "error",
     "traceback": [
      "\u001b[1;31m---------------------------------------------------------------------------\u001b[0m",
      "\u001b[1;31mKeyboardInterrupt\u001b[0m                         Traceback (most recent call last)",
      "Cell \u001b[1;32mIn[12], line 13\u001b[0m\n\u001b[0;32m     11\u001b[0m MakeFigureForFit(x,y,p,ax, x_tang \u001b[38;5;241m+\u001b[39m x[\u001b[38;5;241m0\u001b[39m], y_tang)\n\u001b[0;32m     12\u001b[0m figname \u001b[38;5;241m=\u001b[39m \u001b[38;5;28mstr\u001b[39m(ii)\u001b[38;5;241m.\u001b[39mzfill(\u001b[38;5;241m4\u001b[39m) \u001b[38;5;241m+\u001b[39m \u001b[38;5;124m'\u001b[39m\u001b[38;5;124m.png\u001b[39m\u001b[38;5;124m'\u001b[39m\n\u001b[1;32m---> 13\u001b[0m \u001b[43mplt\u001b[49m\u001b[38;5;241;43m.\u001b[39;49m\u001b[43msavefig\u001b[49m\u001b[43m(\u001b[49m\u001b[43mfolder\u001b[49m\u001b[43m \u001b[49m\u001b[38;5;241;43m+\u001b[39;49m\u001b[43m \u001b[49m\u001b[43mfigname\u001b[49m\u001b[43m)\u001b[49m\n\u001b[0;32m     15\u001b[0m plt\u001b[38;5;241m.\u001b[39mcla()\n",
      "File \u001b[1;32m~\\AppData\\Local\\anaconda3\\lib\\site-packages\\matplotlib\\pyplot.py:996\u001b[0m, in \u001b[0;36msavefig\u001b[1;34m(*args, **kwargs)\u001b[0m\n\u001b[0;32m    993\u001b[0m \u001b[38;5;129m@_copy_docstring_and_deprecators\u001b[39m(Figure\u001b[38;5;241m.\u001b[39msavefig)\n\u001b[0;32m    994\u001b[0m \u001b[38;5;28;01mdef\u001b[39;00m \u001b[38;5;21msavefig\u001b[39m(\u001b[38;5;241m*\u001b[39margs, \u001b[38;5;241m*\u001b[39m\u001b[38;5;241m*\u001b[39mkwargs):\n\u001b[0;32m    995\u001b[0m     fig \u001b[38;5;241m=\u001b[39m gcf()\n\u001b[1;32m--> 996\u001b[0m     res \u001b[38;5;241m=\u001b[39m fig\u001b[38;5;241m.\u001b[39msavefig(\u001b[38;5;241m*\u001b[39margs, \u001b[38;5;241m*\u001b[39m\u001b[38;5;241m*\u001b[39mkwargs)\n\u001b[0;32m    997\u001b[0m     fig\u001b[38;5;241m.\u001b[39mcanvas\u001b[38;5;241m.\u001b[39mdraw_idle()  \u001b[38;5;66;03m# Need this if 'transparent=True', to reset colors.\u001b[39;00m\n\u001b[0;32m    998\u001b[0m     \u001b[38;5;28;01mreturn\u001b[39;00m res\n",
      "File \u001b[1;32m~\\AppData\\Local\\anaconda3\\lib\\site-packages\\matplotlib\\figure.py:3328\u001b[0m, in \u001b[0;36mFigure.savefig\u001b[1;34m(self, fname, transparent, **kwargs)\u001b[0m\n\u001b[0;32m   3324\u001b[0m     \u001b[38;5;28;01mfor\u001b[39;00m ax \u001b[38;5;129;01min\u001b[39;00m \u001b[38;5;28mself\u001b[39m\u001b[38;5;241m.\u001b[39maxes:\n\u001b[0;32m   3325\u001b[0m         stack\u001b[38;5;241m.\u001b[39menter_context(\n\u001b[0;32m   3326\u001b[0m             ax\u001b[38;5;241m.\u001b[39mpatch\u001b[38;5;241m.\u001b[39m_cm_set(facecolor\u001b[38;5;241m=\u001b[39m\u001b[38;5;124m'\u001b[39m\u001b[38;5;124mnone\u001b[39m\u001b[38;5;124m'\u001b[39m, edgecolor\u001b[38;5;241m=\u001b[39m\u001b[38;5;124m'\u001b[39m\u001b[38;5;124mnone\u001b[39m\u001b[38;5;124m'\u001b[39m))\n\u001b[1;32m-> 3328\u001b[0m \u001b[38;5;28mself\u001b[39m\u001b[38;5;241m.\u001b[39mcanvas\u001b[38;5;241m.\u001b[39mprint_figure(fname, \u001b[38;5;241m*\u001b[39m\u001b[38;5;241m*\u001b[39mkwargs)\n",
      "File \u001b[1;32m~\\AppData\\Local\\anaconda3\\lib\\site-packages\\matplotlib\\backend_bases.py:2362\u001b[0m, in \u001b[0;36mFigureCanvasBase.print_figure\u001b[1;34m(self, filename, dpi, facecolor, edgecolor, orientation, format, bbox_inches, pad_inches, bbox_extra_artists, backend, **kwargs)\u001b[0m\n\u001b[0;32m   2358\u001b[0m \u001b[38;5;28;01mtry\u001b[39;00m:\n\u001b[0;32m   2359\u001b[0m     \u001b[38;5;66;03m# _get_renderer may change the figure dpi (as vector formats\u001b[39;00m\n\u001b[0;32m   2360\u001b[0m     \u001b[38;5;66;03m# force the figure dpi to 72), so we need to set it again here.\u001b[39;00m\n\u001b[0;32m   2361\u001b[0m     \u001b[38;5;28;01mwith\u001b[39;00m cbook\u001b[38;5;241m.\u001b[39m_setattr_cm(\u001b[38;5;28mself\u001b[39m\u001b[38;5;241m.\u001b[39mfigure, dpi\u001b[38;5;241m=\u001b[39mdpi):\n\u001b[1;32m-> 2362\u001b[0m         result \u001b[38;5;241m=\u001b[39m print_method(\n\u001b[0;32m   2363\u001b[0m             filename,\n\u001b[0;32m   2364\u001b[0m             facecolor\u001b[38;5;241m=\u001b[39mfacecolor,\n\u001b[0;32m   2365\u001b[0m             edgecolor\u001b[38;5;241m=\u001b[39medgecolor,\n\u001b[0;32m   2366\u001b[0m             orientation\u001b[38;5;241m=\u001b[39morientation,\n\u001b[0;32m   2367\u001b[0m             bbox_inches_restore\u001b[38;5;241m=\u001b[39m_bbox_inches_restore,\n\u001b[0;32m   2368\u001b[0m             \u001b[38;5;241m*\u001b[39m\u001b[38;5;241m*\u001b[39mkwargs)\n\u001b[0;32m   2369\u001b[0m \u001b[38;5;28;01mfinally\u001b[39;00m:\n\u001b[0;32m   2370\u001b[0m     \u001b[38;5;28;01mif\u001b[39;00m bbox_inches \u001b[38;5;129;01mand\u001b[39;00m restore_bbox:\n",
      "File \u001b[1;32m~\\AppData\\Local\\anaconda3\\lib\\site-packages\\matplotlib\\backend_bases.py:2228\u001b[0m, in \u001b[0;36mFigureCanvasBase._switch_canvas_and_return_print_method.<locals>.<lambda>\u001b[1;34m(*args, **kwargs)\u001b[0m\n\u001b[0;32m   2224\u001b[0m     optional_kws \u001b[38;5;241m=\u001b[39m {  \u001b[38;5;66;03m# Passed by print_figure for other renderers.\u001b[39;00m\n\u001b[0;32m   2225\u001b[0m         \u001b[38;5;124m\"\u001b[39m\u001b[38;5;124mdpi\u001b[39m\u001b[38;5;124m\"\u001b[39m, \u001b[38;5;124m\"\u001b[39m\u001b[38;5;124mfacecolor\u001b[39m\u001b[38;5;124m\"\u001b[39m, \u001b[38;5;124m\"\u001b[39m\u001b[38;5;124medgecolor\u001b[39m\u001b[38;5;124m\"\u001b[39m, \u001b[38;5;124m\"\u001b[39m\u001b[38;5;124morientation\u001b[39m\u001b[38;5;124m\"\u001b[39m,\n\u001b[0;32m   2226\u001b[0m         \u001b[38;5;124m\"\u001b[39m\u001b[38;5;124mbbox_inches_restore\u001b[39m\u001b[38;5;124m\"\u001b[39m}\n\u001b[0;32m   2227\u001b[0m     skip \u001b[38;5;241m=\u001b[39m optional_kws \u001b[38;5;241m-\u001b[39m {\u001b[38;5;241m*\u001b[39minspect\u001b[38;5;241m.\u001b[39msignature(meth)\u001b[38;5;241m.\u001b[39mparameters}\n\u001b[1;32m-> 2228\u001b[0m     print_method \u001b[38;5;241m=\u001b[39m functools\u001b[38;5;241m.\u001b[39mwraps(meth)(\u001b[38;5;28;01mlambda\u001b[39;00m \u001b[38;5;241m*\u001b[39margs, \u001b[38;5;241m*\u001b[39m\u001b[38;5;241m*\u001b[39mkwargs: meth(\n\u001b[0;32m   2229\u001b[0m         \u001b[38;5;241m*\u001b[39margs, \u001b[38;5;241m*\u001b[39m\u001b[38;5;241m*\u001b[39m{k: v \u001b[38;5;28;01mfor\u001b[39;00m k, v \u001b[38;5;129;01min\u001b[39;00m kwargs\u001b[38;5;241m.\u001b[39mitems() \u001b[38;5;28;01mif\u001b[39;00m k \u001b[38;5;129;01mnot\u001b[39;00m \u001b[38;5;129;01min\u001b[39;00m skip}))\n\u001b[0;32m   2230\u001b[0m \u001b[38;5;28;01melse\u001b[39;00m:  \u001b[38;5;66;03m# Let third-parties do as they see fit.\u001b[39;00m\n\u001b[0;32m   2231\u001b[0m     print_method \u001b[38;5;241m=\u001b[39m meth\n",
      "File \u001b[1;32m~\\AppData\\Local\\anaconda3\\lib\\site-packages\\matplotlib\\backends\\backend_agg.py:509\u001b[0m, in \u001b[0;36mFigureCanvasAgg.print_png\u001b[1;34m(self, filename_or_obj, metadata, pil_kwargs)\u001b[0m\n\u001b[0;32m    462\u001b[0m \u001b[38;5;28;01mdef\u001b[39;00m \u001b[38;5;21mprint_png\u001b[39m(\u001b[38;5;28mself\u001b[39m, filename_or_obj, \u001b[38;5;241m*\u001b[39m, metadata\u001b[38;5;241m=\u001b[39m\u001b[38;5;28;01mNone\u001b[39;00m, pil_kwargs\u001b[38;5;241m=\u001b[39m\u001b[38;5;28;01mNone\u001b[39;00m):\n\u001b[0;32m    463\u001b[0m     \u001b[38;5;124;03m\"\"\"\u001b[39;00m\n\u001b[0;32m    464\u001b[0m \u001b[38;5;124;03m    Write the figure to a PNG file.\u001b[39;00m\n\u001b[0;32m    465\u001b[0m \n\u001b[1;32m   (...)\u001b[0m\n\u001b[0;32m    507\u001b[0m \u001b[38;5;124;03m        *metadata*, including the default 'Software' key.\u001b[39;00m\n\u001b[0;32m    508\u001b[0m \u001b[38;5;124;03m    \"\"\"\u001b[39;00m\n\u001b[1;32m--> 509\u001b[0m     \u001b[38;5;28;43mself\u001b[39;49m\u001b[38;5;241;43m.\u001b[39;49m\u001b[43m_print_pil\u001b[49m\u001b[43m(\u001b[49m\u001b[43mfilename_or_obj\u001b[49m\u001b[43m,\u001b[49m\u001b[43m \u001b[49m\u001b[38;5;124;43m\"\u001b[39;49m\u001b[38;5;124;43mpng\u001b[39;49m\u001b[38;5;124;43m\"\u001b[39;49m\u001b[43m,\u001b[49m\u001b[43m \u001b[49m\u001b[43mpil_kwargs\u001b[49m\u001b[43m,\u001b[49m\u001b[43m \u001b[49m\u001b[43mmetadata\u001b[49m\u001b[43m)\u001b[49m\n",
      "File \u001b[1;32m~\\AppData\\Local\\anaconda3\\lib\\site-packages\\matplotlib\\backends\\backend_agg.py:457\u001b[0m, in \u001b[0;36mFigureCanvasAgg._print_pil\u001b[1;34m(self, filename_or_obj, fmt, pil_kwargs, metadata)\u001b[0m\n\u001b[0;32m    452\u001b[0m \u001b[38;5;28;01mdef\u001b[39;00m \u001b[38;5;21m_print_pil\u001b[39m(\u001b[38;5;28mself\u001b[39m, filename_or_obj, fmt, pil_kwargs, metadata\u001b[38;5;241m=\u001b[39m\u001b[38;5;28;01mNone\u001b[39;00m):\n\u001b[0;32m    453\u001b[0m     \u001b[38;5;124;03m\"\"\"\u001b[39;00m\n\u001b[0;32m    454\u001b[0m \u001b[38;5;124;03m    Draw the canvas, then save it using `.image.imsave` (to which\u001b[39;00m\n\u001b[0;32m    455\u001b[0m \u001b[38;5;124;03m    *pil_kwargs* and *metadata* are forwarded).\u001b[39;00m\n\u001b[0;32m    456\u001b[0m \u001b[38;5;124;03m    \"\"\"\u001b[39;00m\n\u001b[1;32m--> 457\u001b[0m     \u001b[43mFigureCanvasAgg\u001b[49m\u001b[38;5;241;43m.\u001b[39;49m\u001b[43mdraw\u001b[49m\u001b[43m(\u001b[49m\u001b[38;5;28;43mself\u001b[39;49m\u001b[43m)\u001b[49m\n\u001b[0;32m    458\u001b[0m     mpl\u001b[38;5;241m.\u001b[39mimage\u001b[38;5;241m.\u001b[39mimsave(\n\u001b[0;32m    459\u001b[0m         filename_or_obj, \u001b[38;5;28mself\u001b[39m\u001b[38;5;241m.\u001b[39mbuffer_rgba(), \u001b[38;5;28mformat\u001b[39m\u001b[38;5;241m=\u001b[39mfmt, origin\u001b[38;5;241m=\u001b[39m\u001b[38;5;124m\"\u001b[39m\u001b[38;5;124mupper\u001b[39m\u001b[38;5;124m\"\u001b[39m,\n\u001b[0;32m    460\u001b[0m         dpi\u001b[38;5;241m=\u001b[39m\u001b[38;5;28mself\u001b[39m\u001b[38;5;241m.\u001b[39mfigure\u001b[38;5;241m.\u001b[39mdpi, metadata\u001b[38;5;241m=\u001b[39mmetadata, pil_kwargs\u001b[38;5;241m=\u001b[39mpil_kwargs)\n",
      "File \u001b[1;32m~\\AppData\\Local\\anaconda3\\lib\\site-packages\\matplotlib\\backends\\backend_agg.py:400\u001b[0m, in \u001b[0;36mFigureCanvasAgg.draw\u001b[1;34m(self)\u001b[0m\n\u001b[0;32m    396\u001b[0m \u001b[38;5;66;03m# Acquire a lock on the shared font cache.\u001b[39;00m\n\u001b[0;32m    397\u001b[0m \u001b[38;5;28;01mwith\u001b[39;00m RendererAgg\u001b[38;5;241m.\u001b[39mlock, \\\n\u001b[0;32m    398\u001b[0m      (\u001b[38;5;28mself\u001b[39m\u001b[38;5;241m.\u001b[39mtoolbar\u001b[38;5;241m.\u001b[39m_wait_cursor_for_draw_cm() \u001b[38;5;28;01mif\u001b[39;00m \u001b[38;5;28mself\u001b[39m\u001b[38;5;241m.\u001b[39mtoolbar\n\u001b[0;32m    399\u001b[0m       \u001b[38;5;28;01melse\u001b[39;00m nullcontext()):\n\u001b[1;32m--> 400\u001b[0m     \u001b[38;5;28;43mself\u001b[39;49m\u001b[38;5;241;43m.\u001b[39;49m\u001b[43mfigure\u001b[49m\u001b[38;5;241;43m.\u001b[39;49m\u001b[43mdraw\u001b[49m\u001b[43m(\u001b[49m\u001b[38;5;28;43mself\u001b[39;49m\u001b[38;5;241;43m.\u001b[39;49m\u001b[43mrenderer\u001b[49m\u001b[43m)\u001b[49m\n\u001b[0;32m    401\u001b[0m     \u001b[38;5;66;03m# A GUI class may be need to update a window using this draw, so\u001b[39;00m\n\u001b[0;32m    402\u001b[0m     \u001b[38;5;66;03m# don't forget to call the superclass.\u001b[39;00m\n\u001b[0;32m    403\u001b[0m     \u001b[38;5;28msuper\u001b[39m()\u001b[38;5;241m.\u001b[39mdraw()\n",
      "File \u001b[1;32m~\\AppData\\Local\\anaconda3\\lib\\site-packages\\matplotlib\\artist.py:95\u001b[0m, in \u001b[0;36m_finalize_rasterization.<locals>.draw_wrapper\u001b[1;34m(artist, renderer, *args, **kwargs)\u001b[0m\n\u001b[0;32m     93\u001b[0m \u001b[38;5;129m@wraps\u001b[39m(draw)\n\u001b[0;32m     94\u001b[0m \u001b[38;5;28;01mdef\u001b[39;00m \u001b[38;5;21mdraw_wrapper\u001b[39m(artist, renderer, \u001b[38;5;241m*\u001b[39margs, \u001b[38;5;241m*\u001b[39m\u001b[38;5;241m*\u001b[39mkwargs):\n\u001b[1;32m---> 95\u001b[0m     result \u001b[38;5;241m=\u001b[39m draw(artist, renderer, \u001b[38;5;241m*\u001b[39margs, \u001b[38;5;241m*\u001b[39m\u001b[38;5;241m*\u001b[39mkwargs)\n\u001b[0;32m     96\u001b[0m     \u001b[38;5;28;01mif\u001b[39;00m renderer\u001b[38;5;241m.\u001b[39m_rasterizing:\n\u001b[0;32m     97\u001b[0m         renderer\u001b[38;5;241m.\u001b[39mstop_rasterizing()\n",
      "File \u001b[1;32m~\\AppData\\Local\\anaconda3\\lib\\site-packages\\matplotlib\\artist.py:72\u001b[0m, in \u001b[0;36mallow_rasterization.<locals>.draw_wrapper\u001b[1;34m(artist, renderer)\u001b[0m\n\u001b[0;32m     69\u001b[0m     \u001b[38;5;28;01mif\u001b[39;00m artist\u001b[38;5;241m.\u001b[39mget_agg_filter() \u001b[38;5;129;01mis\u001b[39;00m \u001b[38;5;129;01mnot\u001b[39;00m \u001b[38;5;28;01mNone\u001b[39;00m:\n\u001b[0;32m     70\u001b[0m         renderer\u001b[38;5;241m.\u001b[39mstart_filter()\n\u001b[1;32m---> 72\u001b[0m     \u001b[38;5;28;01mreturn\u001b[39;00m \u001b[43mdraw\u001b[49m\u001b[43m(\u001b[49m\u001b[43martist\u001b[49m\u001b[43m,\u001b[49m\u001b[43m \u001b[49m\u001b[43mrenderer\u001b[49m\u001b[43m)\u001b[49m\n\u001b[0;32m     73\u001b[0m \u001b[38;5;28;01mfinally\u001b[39;00m:\n\u001b[0;32m     74\u001b[0m     \u001b[38;5;28;01mif\u001b[39;00m artist\u001b[38;5;241m.\u001b[39mget_agg_filter() \u001b[38;5;129;01mis\u001b[39;00m \u001b[38;5;129;01mnot\u001b[39;00m \u001b[38;5;28;01mNone\u001b[39;00m:\n",
      "File \u001b[1;32m~\\AppData\\Local\\anaconda3\\lib\\site-packages\\matplotlib\\figure.py:3125\u001b[0m, in \u001b[0;36mFigure.draw\u001b[1;34m(self, renderer)\u001b[0m\n\u001b[0;32m   3122\u001b[0m         \u001b[38;5;66;03m# ValueError can occur when resizing a window.\u001b[39;00m\n\u001b[0;32m   3124\u001b[0m \u001b[38;5;28mself\u001b[39m\u001b[38;5;241m.\u001b[39mpatch\u001b[38;5;241m.\u001b[39mdraw(renderer)\n\u001b[1;32m-> 3125\u001b[0m \u001b[43mmimage\u001b[49m\u001b[38;5;241;43m.\u001b[39;49m\u001b[43m_draw_list_compositing_images\u001b[49m\u001b[43m(\u001b[49m\n\u001b[0;32m   3126\u001b[0m \u001b[43m    \u001b[49m\u001b[43mrenderer\u001b[49m\u001b[43m,\u001b[49m\u001b[43m \u001b[49m\u001b[38;5;28;43mself\u001b[39;49m\u001b[43m,\u001b[49m\u001b[43m \u001b[49m\u001b[43martists\u001b[49m\u001b[43m,\u001b[49m\u001b[43m \u001b[49m\u001b[38;5;28;43mself\u001b[39;49m\u001b[38;5;241;43m.\u001b[39;49m\u001b[43msuppressComposite\u001b[49m\u001b[43m)\u001b[49m\n\u001b[0;32m   3128\u001b[0m \u001b[38;5;28;01mfor\u001b[39;00m sfig \u001b[38;5;129;01min\u001b[39;00m \u001b[38;5;28mself\u001b[39m\u001b[38;5;241m.\u001b[39msubfigs:\n\u001b[0;32m   3129\u001b[0m     sfig\u001b[38;5;241m.\u001b[39mdraw(renderer)\n",
      "File \u001b[1;32m~\\AppData\\Local\\anaconda3\\lib\\site-packages\\matplotlib\\image.py:131\u001b[0m, in \u001b[0;36m_draw_list_compositing_images\u001b[1;34m(renderer, parent, artists, suppress_composite)\u001b[0m\n\u001b[0;32m    129\u001b[0m \u001b[38;5;28;01mif\u001b[39;00m not_composite \u001b[38;5;129;01mor\u001b[39;00m \u001b[38;5;129;01mnot\u001b[39;00m has_images:\n\u001b[0;32m    130\u001b[0m     \u001b[38;5;28;01mfor\u001b[39;00m a \u001b[38;5;129;01min\u001b[39;00m artists:\n\u001b[1;32m--> 131\u001b[0m         \u001b[43ma\u001b[49m\u001b[38;5;241;43m.\u001b[39;49m\u001b[43mdraw\u001b[49m\u001b[43m(\u001b[49m\u001b[43mrenderer\u001b[49m\u001b[43m)\u001b[49m\n\u001b[0;32m    132\u001b[0m \u001b[38;5;28;01melse\u001b[39;00m:\n\u001b[0;32m    133\u001b[0m     \u001b[38;5;66;03m# Composite any adjacent images together\u001b[39;00m\n\u001b[0;32m    134\u001b[0m     image_group \u001b[38;5;241m=\u001b[39m []\n",
      "File \u001b[1;32m~\\AppData\\Local\\anaconda3\\lib\\site-packages\\matplotlib\\artist.py:72\u001b[0m, in \u001b[0;36mallow_rasterization.<locals>.draw_wrapper\u001b[1;34m(artist, renderer)\u001b[0m\n\u001b[0;32m     69\u001b[0m     \u001b[38;5;28;01mif\u001b[39;00m artist\u001b[38;5;241m.\u001b[39mget_agg_filter() \u001b[38;5;129;01mis\u001b[39;00m \u001b[38;5;129;01mnot\u001b[39;00m \u001b[38;5;28;01mNone\u001b[39;00m:\n\u001b[0;32m     70\u001b[0m         renderer\u001b[38;5;241m.\u001b[39mstart_filter()\n\u001b[1;32m---> 72\u001b[0m     \u001b[38;5;28;01mreturn\u001b[39;00m \u001b[43mdraw\u001b[49m\u001b[43m(\u001b[49m\u001b[43martist\u001b[49m\u001b[43m,\u001b[49m\u001b[43m \u001b[49m\u001b[43mrenderer\u001b[49m\u001b[43m)\u001b[49m\n\u001b[0;32m     73\u001b[0m \u001b[38;5;28;01mfinally\u001b[39;00m:\n\u001b[0;32m     74\u001b[0m     \u001b[38;5;28;01mif\u001b[39;00m artist\u001b[38;5;241m.\u001b[39mget_agg_filter() \u001b[38;5;129;01mis\u001b[39;00m \u001b[38;5;129;01mnot\u001b[39;00m \u001b[38;5;28;01mNone\u001b[39;00m:\n",
      "File \u001b[1;32m~\\AppData\\Local\\anaconda3\\lib\\site-packages\\matplotlib\\axes\\_base.py:3066\u001b[0m, in \u001b[0;36m_AxesBase.draw\u001b[1;34m(self, renderer)\u001b[0m\n\u001b[0;32m   3063\u001b[0m \u001b[38;5;28;01mif\u001b[39;00m artists_rasterized:\n\u001b[0;32m   3064\u001b[0m     _draw_rasterized(\u001b[38;5;28mself\u001b[39m\u001b[38;5;241m.\u001b[39mfigure, artists_rasterized, renderer)\n\u001b[1;32m-> 3066\u001b[0m \u001b[43mmimage\u001b[49m\u001b[38;5;241;43m.\u001b[39;49m\u001b[43m_draw_list_compositing_images\u001b[49m\u001b[43m(\u001b[49m\n\u001b[0;32m   3067\u001b[0m \u001b[43m    \u001b[49m\u001b[43mrenderer\u001b[49m\u001b[43m,\u001b[49m\u001b[43m \u001b[49m\u001b[38;5;28;43mself\u001b[39;49m\u001b[43m,\u001b[49m\u001b[43m \u001b[49m\u001b[43martists\u001b[49m\u001b[43m,\u001b[49m\u001b[43m \u001b[49m\u001b[38;5;28;43mself\u001b[39;49m\u001b[38;5;241;43m.\u001b[39;49m\u001b[43mfigure\u001b[49m\u001b[38;5;241;43m.\u001b[39;49m\u001b[43msuppressComposite\u001b[49m\u001b[43m)\u001b[49m\n\u001b[0;32m   3069\u001b[0m renderer\u001b[38;5;241m.\u001b[39mclose_group(\u001b[38;5;124m'\u001b[39m\u001b[38;5;124maxes\u001b[39m\u001b[38;5;124m'\u001b[39m)\n\u001b[0;32m   3070\u001b[0m \u001b[38;5;28mself\u001b[39m\u001b[38;5;241m.\u001b[39mstale \u001b[38;5;241m=\u001b[39m \u001b[38;5;28;01mFalse\u001b[39;00m\n",
      "File \u001b[1;32m~\\AppData\\Local\\anaconda3\\lib\\site-packages\\matplotlib\\image.py:131\u001b[0m, in \u001b[0;36m_draw_list_compositing_images\u001b[1;34m(renderer, parent, artists, suppress_composite)\u001b[0m\n\u001b[0;32m    129\u001b[0m \u001b[38;5;28;01mif\u001b[39;00m not_composite \u001b[38;5;129;01mor\u001b[39;00m \u001b[38;5;129;01mnot\u001b[39;00m has_images:\n\u001b[0;32m    130\u001b[0m     \u001b[38;5;28;01mfor\u001b[39;00m a \u001b[38;5;129;01min\u001b[39;00m artists:\n\u001b[1;32m--> 131\u001b[0m         \u001b[43ma\u001b[49m\u001b[38;5;241;43m.\u001b[39;49m\u001b[43mdraw\u001b[49m\u001b[43m(\u001b[49m\u001b[43mrenderer\u001b[49m\u001b[43m)\u001b[49m\n\u001b[0;32m    132\u001b[0m \u001b[38;5;28;01melse\u001b[39;00m:\n\u001b[0;32m    133\u001b[0m     \u001b[38;5;66;03m# Composite any adjacent images together\u001b[39;00m\n\u001b[0;32m    134\u001b[0m     image_group \u001b[38;5;241m=\u001b[39m []\n",
      "File \u001b[1;32m~\\AppData\\Local\\anaconda3\\lib\\site-packages\\matplotlib\\artist.py:72\u001b[0m, in \u001b[0;36mallow_rasterization.<locals>.draw_wrapper\u001b[1;34m(artist, renderer)\u001b[0m\n\u001b[0;32m     69\u001b[0m     \u001b[38;5;28;01mif\u001b[39;00m artist\u001b[38;5;241m.\u001b[39mget_agg_filter() \u001b[38;5;129;01mis\u001b[39;00m \u001b[38;5;129;01mnot\u001b[39;00m \u001b[38;5;28;01mNone\u001b[39;00m:\n\u001b[0;32m     70\u001b[0m         renderer\u001b[38;5;241m.\u001b[39mstart_filter()\n\u001b[1;32m---> 72\u001b[0m     \u001b[38;5;28;01mreturn\u001b[39;00m \u001b[43mdraw\u001b[49m\u001b[43m(\u001b[49m\u001b[43martist\u001b[49m\u001b[43m,\u001b[49m\u001b[43m \u001b[49m\u001b[43mrenderer\u001b[49m\u001b[43m)\u001b[49m\n\u001b[0;32m     73\u001b[0m \u001b[38;5;28;01mfinally\u001b[39;00m:\n\u001b[0;32m     74\u001b[0m     \u001b[38;5;28;01mif\u001b[39;00m artist\u001b[38;5;241m.\u001b[39mget_agg_filter() \u001b[38;5;129;01mis\u001b[39;00m \u001b[38;5;129;01mnot\u001b[39;00m \u001b[38;5;28;01mNone\u001b[39;00m:\n",
      "File \u001b[1;32m~\\AppData\\Local\\anaconda3\\lib\\site-packages\\matplotlib\\axis.py:1372\u001b[0m, in \u001b[0;36mAxis.draw\u001b[1;34m(self, renderer, *args, **kwargs)\u001b[0m\n\u001b[0;32m   1369\u001b[0m renderer\u001b[38;5;241m.\u001b[39mopen_group(\u001b[38;5;18m__name__\u001b[39m, gid\u001b[38;5;241m=\u001b[39m\u001b[38;5;28mself\u001b[39m\u001b[38;5;241m.\u001b[39mget_gid())\n\u001b[0;32m   1371\u001b[0m ticks_to_draw \u001b[38;5;241m=\u001b[39m \u001b[38;5;28mself\u001b[39m\u001b[38;5;241m.\u001b[39m_update_ticks()\n\u001b[1;32m-> 1372\u001b[0m tlb1, tlb2 \u001b[38;5;241m=\u001b[39m \u001b[38;5;28;43mself\u001b[39;49m\u001b[38;5;241;43m.\u001b[39;49m\u001b[43m_get_ticklabel_bboxes\u001b[49m\u001b[43m(\u001b[49m\u001b[43mticks_to_draw\u001b[49m\u001b[43m,\u001b[49m\u001b[43m \u001b[49m\u001b[43mrenderer\u001b[49m\u001b[43m)\u001b[49m\n\u001b[0;32m   1374\u001b[0m \u001b[38;5;28;01mfor\u001b[39;00m tick \u001b[38;5;129;01min\u001b[39;00m ticks_to_draw:\n\u001b[0;32m   1375\u001b[0m     tick\u001b[38;5;241m.\u001b[39mdraw(renderer)\n",
      "File \u001b[1;32m~\\AppData\\Local\\anaconda3\\lib\\site-packages\\matplotlib\\axis.py:1299\u001b[0m, in \u001b[0;36mAxis._get_ticklabel_bboxes\u001b[1;34m(self, ticks, renderer)\u001b[0m\n\u001b[0;32m   1297\u001b[0m \u001b[38;5;28;01mif\u001b[39;00m renderer \u001b[38;5;129;01mis\u001b[39;00m \u001b[38;5;28;01mNone\u001b[39;00m:\n\u001b[0;32m   1298\u001b[0m     renderer \u001b[38;5;241m=\u001b[39m \u001b[38;5;28mself\u001b[39m\u001b[38;5;241m.\u001b[39mfigure\u001b[38;5;241m.\u001b[39m_get_renderer()\n\u001b[1;32m-> 1299\u001b[0m \u001b[38;5;28;01mreturn\u001b[39;00m ([tick\u001b[38;5;241m.\u001b[39mlabel1\u001b[38;5;241m.\u001b[39mget_window_extent(renderer)\n\u001b[0;32m   1300\u001b[0m          \u001b[38;5;28;01mfor\u001b[39;00m tick \u001b[38;5;129;01min\u001b[39;00m ticks \u001b[38;5;28;01mif\u001b[39;00m tick\u001b[38;5;241m.\u001b[39mlabel1\u001b[38;5;241m.\u001b[39mget_visible()],\n\u001b[0;32m   1301\u001b[0m         [tick\u001b[38;5;241m.\u001b[39mlabel2\u001b[38;5;241m.\u001b[39mget_window_extent(renderer)\n\u001b[0;32m   1302\u001b[0m          \u001b[38;5;28;01mfor\u001b[39;00m tick \u001b[38;5;129;01min\u001b[39;00m ticks \u001b[38;5;28;01mif\u001b[39;00m tick\u001b[38;5;241m.\u001b[39mlabel2\u001b[38;5;241m.\u001b[39mget_visible()])\n",
      "File \u001b[1;32m~\\AppData\\Local\\anaconda3\\lib\\site-packages\\matplotlib\\axis.py:1299\u001b[0m, in \u001b[0;36m<listcomp>\u001b[1;34m(.0)\u001b[0m\n\u001b[0;32m   1297\u001b[0m \u001b[38;5;28;01mif\u001b[39;00m renderer \u001b[38;5;129;01mis\u001b[39;00m \u001b[38;5;28;01mNone\u001b[39;00m:\n\u001b[0;32m   1298\u001b[0m     renderer \u001b[38;5;241m=\u001b[39m \u001b[38;5;28mself\u001b[39m\u001b[38;5;241m.\u001b[39mfigure\u001b[38;5;241m.\u001b[39m_get_renderer()\n\u001b[1;32m-> 1299\u001b[0m \u001b[38;5;28;01mreturn\u001b[39;00m ([\u001b[43mtick\u001b[49m\u001b[38;5;241;43m.\u001b[39;49m\u001b[43mlabel1\u001b[49m\u001b[38;5;241;43m.\u001b[39;49m\u001b[43mget_window_extent\u001b[49m\u001b[43m(\u001b[49m\u001b[43mrenderer\u001b[49m\u001b[43m)\u001b[49m\n\u001b[0;32m   1300\u001b[0m          \u001b[38;5;28;01mfor\u001b[39;00m tick \u001b[38;5;129;01min\u001b[39;00m ticks \u001b[38;5;28;01mif\u001b[39;00m tick\u001b[38;5;241m.\u001b[39mlabel1\u001b[38;5;241m.\u001b[39mget_visible()],\n\u001b[0;32m   1301\u001b[0m         [tick\u001b[38;5;241m.\u001b[39mlabel2\u001b[38;5;241m.\u001b[39mget_window_extent(renderer)\n\u001b[0;32m   1302\u001b[0m          \u001b[38;5;28;01mfor\u001b[39;00m tick \u001b[38;5;129;01min\u001b[39;00m ticks \u001b[38;5;28;01mif\u001b[39;00m tick\u001b[38;5;241m.\u001b[39mlabel2\u001b[38;5;241m.\u001b[39mget_visible()])\n",
      "File \u001b[1;32m~\\AppData\\Local\\anaconda3\\lib\\site-packages\\matplotlib\\text.py:961\u001b[0m, in \u001b[0;36mText.get_window_extent\u001b[1;34m(self, renderer, dpi)\u001b[0m\n\u001b[0;32m    959\u001b[0m bbox, info, descent \u001b[38;5;241m=\u001b[39m \u001b[38;5;28mself\u001b[39m\u001b[38;5;241m.\u001b[39m_get_layout(\u001b[38;5;28mself\u001b[39m\u001b[38;5;241m.\u001b[39m_renderer)\n\u001b[0;32m    960\u001b[0m x, y \u001b[38;5;241m=\u001b[39m \u001b[38;5;28mself\u001b[39m\u001b[38;5;241m.\u001b[39mget_unitless_position()\n\u001b[1;32m--> 961\u001b[0m x, y \u001b[38;5;241m=\u001b[39m \u001b[38;5;28;43mself\u001b[39;49m\u001b[38;5;241;43m.\u001b[39;49m\u001b[43mget_transform\u001b[49m\u001b[43m(\u001b[49m\u001b[43m)\u001b[49m\u001b[38;5;241;43m.\u001b[39;49m\u001b[43mtransform\u001b[49m\u001b[43m(\u001b[49m\u001b[43m(\u001b[49m\u001b[43mx\u001b[49m\u001b[43m,\u001b[49m\u001b[43m \u001b[49m\u001b[43my\u001b[49m\u001b[43m)\u001b[49m\u001b[43m)\u001b[49m\n\u001b[0;32m    962\u001b[0m bbox \u001b[38;5;241m=\u001b[39m bbox\u001b[38;5;241m.\u001b[39mtranslated(x, y)\n\u001b[0;32m    963\u001b[0m \u001b[38;5;28;01mreturn\u001b[39;00m bbox\n",
      "File \u001b[1;32m~\\AppData\\Local\\anaconda3\\lib\\site-packages\\matplotlib\\transforms.py:1490\u001b[0m, in \u001b[0;36mTransform.transform\u001b[1;34m(self, values)\u001b[0m\n\u001b[0;32m   1487\u001b[0m values \u001b[38;5;241m=\u001b[39m values\u001b[38;5;241m.\u001b[39mreshape((\u001b[38;5;241m-\u001b[39m\u001b[38;5;241m1\u001b[39m, \u001b[38;5;28mself\u001b[39m\u001b[38;5;241m.\u001b[39minput_dims))\n\u001b[0;32m   1489\u001b[0m \u001b[38;5;66;03m# Transform the values\u001b[39;00m\n\u001b[1;32m-> 1490\u001b[0m res \u001b[38;5;241m=\u001b[39m \u001b[38;5;28;43mself\u001b[39;49m\u001b[38;5;241;43m.\u001b[39;49m\u001b[43mtransform_affine\u001b[49m\u001b[43m(\u001b[49m\u001b[38;5;28;43mself\u001b[39;49m\u001b[38;5;241;43m.\u001b[39;49m\u001b[43mtransform_non_affine\u001b[49m\u001b[43m(\u001b[49m\u001b[43mvalues\u001b[49m\u001b[43m)\u001b[49m\u001b[43m)\u001b[49m\n\u001b[0;32m   1492\u001b[0m \u001b[38;5;66;03m# Convert the result back to the shape of the input values.\u001b[39;00m\n\u001b[0;32m   1493\u001b[0m \u001b[38;5;28;01mif\u001b[39;00m ndim \u001b[38;5;241m==\u001b[39m \u001b[38;5;241m0\u001b[39m:\n",
      "File \u001b[1;32m~\\AppData\\Local\\anaconda3\\lib\\site-packages\\matplotlib\\transforms.py:2415\u001b[0m, in \u001b[0;36mCompositeGenericTransform.transform_affine\u001b[1;34m(self, points)\u001b[0m\n\u001b[0;32m   2413\u001b[0m \u001b[38;5;28;01mdef\u001b[39;00m \u001b[38;5;21mtransform_affine\u001b[39m(\u001b[38;5;28mself\u001b[39m, points):\n\u001b[0;32m   2414\u001b[0m     \u001b[38;5;66;03m# docstring inherited\u001b[39;00m\n\u001b[1;32m-> 2415\u001b[0m     \u001b[38;5;28;01mreturn\u001b[39;00m \u001b[38;5;28;43mself\u001b[39;49m\u001b[38;5;241;43m.\u001b[39;49m\u001b[43mget_affine\u001b[49m\u001b[43m(\u001b[49m\u001b[43m)\u001b[49m\u001b[38;5;241m.\u001b[39mtransform(points)\n",
      "File \u001b[1;32m~\\AppData\\Local\\anaconda3\\lib\\site-packages\\matplotlib\\transforms.py:2441\u001b[0m, in \u001b[0;36mCompositeGenericTransform.get_affine\u001b[1;34m(self)\u001b[0m\n\u001b[0;32m   2439\u001b[0m     \u001b[38;5;28;01mreturn\u001b[39;00m \u001b[38;5;28mself\u001b[39m\u001b[38;5;241m.\u001b[39m_b\u001b[38;5;241m.\u001b[39mget_affine()\n\u001b[0;32m   2440\u001b[0m \u001b[38;5;28;01melse\u001b[39;00m:\n\u001b[1;32m-> 2441\u001b[0m     \u001b[38;5;28;01mreturn\u001b[39;00m Affine2D(np\u001b[38;5;241m.\u001b[39mdot(\u001b[38;5;28;43mself\u001b[39;49m\u001b[38;5;241;43m.\u001b[39;49m\u001b[43m_b\u001b[49m\u001b[38;5;241;43m.\u001b[39;49m\u001b[43mget_affine\u001b[49m\u001b[43m(\u001b[49m\u001b[43m)\u001b[49m\u001b[38;5;241;43m.\u001b[39;49m\u001b[43mget_matrix\u001b[49m\u001b[43m(\u001b[49m\u001b[43m)\u001b[49m,\n\u001b[0;32m   2442\u001b[0m                            \u001b[38;5;28mself\u001b[39m\u001b[38;5;241m.\u001b[39m_a\u001b[38;5;241m.\u001b[39mget_affine()\u001b[38;5;241m.\u001b[39mget_matrix()))\n",
      "\u001b[1;31mKeyboardInterrupt\u001b[0m: "
     ]
    },
    {
     "data": {
      "image/png": "[encoded data removed]",
      "text/plain": [
       "<Figure size 640x480 with 1 Axes>"
      ]
     },
     "metadata": {},
     "output_type": "display_data"
    }
   ],
   "source": [
    "# plot this tangent at the curve\n",
    "import matplotlib.pyplot as plt\n",
    "f = plt.figure()\n",
    "ax = f.add_axes([0.3, 0.3, 0.7, 0.7])\n",
    "\n",
    "for ii, p in enumerate(p_fit):\n",
    "    x = X_arr.loc[ii,:].values\n",
    "    y = Y_arr.loc[ii,:].values\n",
    "    x_tang, y_tang = getTangentCurve(x,y+5,p)\n",
    "    \n",
    "    MakeFigureForFit(x,y,p,ax, x_tang + x[0], y_tang)\n",
    "    figname = str(ii).zfill(4) + '.png'\n",
    "    plt.savefig(folder + figname)\n",
    "\n",
    "    plt.cla()"
   ]
  },
  {
   "cell_type": "code",
   "execution_count": null,
   "id": "1fd135fa",
   "metadata": {},
   "outputs": [],
   "source": [
    "# export the tangent line for plotting on figure\n",
    "\n",
    "def getTangentCurveForFigure(x,y,p):\n",
    "    fittedParameters = np.poly1d(p)\n",
    "    deriv = np.polyder(fittedParameters)\n",
    "    pointVal = y[0]\n",
    "    #create the tangent line\n",
    "    line_y = [pointVal - 20, pointVal]\n",
    "    line_x = np.polyval(fittedParameters, line_y)\n",
    "    return(line_x, line_y)\n",
    "\n",
    "\n",
    "tangent_x = []\n",
    "tangent_y = []\n",
    "\n",
    "for ii, p in enumerate(p_fit):\n",
    "    x = X_arr.loc[ii,:].values\n",
    "    y = Y_arr.loc[ii,:].values\n",
    "    x_tang, y_tang = getTangentCurveForFigure(x,y,p)\n",
    "    tangent_x.append(x_tang)\n",
    "    tangent_y.append(y_tang)\n",
    "\n",
    "path = './dataFolder/errorSignal/'\n",
    "np.save(path + 'tangent_x.npy', tangent_x)\n",
    "np.save(path + 'tangent_y.npy', tangent_y)"
   ]
  },
  {
   "cell_type": "code",
   "execution_count": null,
   "id": "b5e18093",
   "metadata": {},
   "outputs": [],
   "source": [
    "fitLine = []\n",
    "for ii, p in enumerate(p_fit):\n",
    "    x = X_arr.loc[ii,:].values\n",
    "    y = Y_arr.loc[ii,:].values\n",
    "    x_tang, y_tang = getTangentCurve(x,y,p)\n",
    "    firLine = [x_tang[1]-x_tang[0], y_tang[0]\n",
    "    Tangent.append(tangent_pt)\n",
    "\n",
    "Tangent = np.array(Tangent)\n",
    "probVector = Tangent - prob_base"
   ]
  },
  {
   "cell_type": "code",
   "execution_count": null,
   "id": "9be51cf6",
   "metadata": {},
   "outputs": [],
   "source": [
    "angle = []\n",
    "for ii, pvec in enumerate(probVector):\n",
    "    aa = np.arctan2(np.cross(pvec, BodyHeadVector[ii]), np.dot(pvec, BodyHeadVector[ii]))\n",
    "    angle.append(aa)\n",
    "    \n",
    "pd.Series(data = angle).to_csv('./dataFolder/errorSignal/Polyfit_errorAngle.csv')"
   ]
  },
  {
   "cell_type": "markdown",
   "id": "6adbf748",
   "metadata": {},
   "source": [
    "### Method Ib - get the line joining the first two points computed by the slope"
   ]
  },
  {
   "cell_type": "code",
   "execution_count": null,
   "id": "28d918a9",
   "metadata": {},
   "outputs": [],
   "source": [
    "# compute the tangent at the curve at point x,y\n",
    "def evaluteCurveAtY(x,y,p):\n",
    "    fittedParameters = np.poly1d(p)\n",
    "    deriv = np.polyder(fittedParameters)\n",
    "    pointVal0 = y[0]\n",
    "    pointVal1 = y[1]\n",
    "    #create the tangent line\n",
    "    line_y = [pointVal0, pointVal1]\n",
    "    line_x = np.polyval(fittedParameters, line_y)\n",
    "    return(line_x, line_y)"
   ]
  },
  {
   "cell_type": "code",
   "execution_count": null,
   "id": "7b0e02c6",
   "metadata": {},
   "outputs": [],
   "source": [
    "x_line = []\n",
    "y_line = []\n",
    "for ii, p in enumerate(p_fit):\n",
    "    x = X_arr.loc[ii,:].values\n",
    "    y = Y_arr.loc[ii,:].values\n",
    "    x_, y_ = evaluteCurveAtY(x,y,p)\n",
    "    x_line.append(x_[1] - x_[0])\n",
    "    y_line.append(y_[1] - y_[0])\n",
    "\n",
    "probVector = np.transpose([x_line, y_line])"
   ]
  },
  {
   "cell_type": "code",
   "execution_count": null,
   "id": "b10d3d84",
   "metadata": {},
   "outputs": [],
   "source": [
    "angle = []\n",
    "for ii, pvec in enumerate(probVector):\n",
    "    aa = np.arctan2(np.cross(pvec, BodyHeadVector[ii]), np.dot(pvec, BodyHeadVector[ii]))\n",
    "    angle.append(aa)\n",
    "    \n",
    "pd.Series(data = angle).to_csv('./dataFolder/errorSignal/CurvePoints_errorAngle.csv')"
   ]
  },
  {
   "cell_type": "code",
   "execution_count": null,
   "id": "80ec512a",
   "metadata": {},
   "outputs": [],
   "source": [
    "plt.plot(np.array(angle)*180/np.pi)"
   ]
  },
  {
   "cell_type": "markdown",
   "id": "24fd1a78",
   "metadata": {},
   "source": [
    "### Method II - get the line joiinig the first two digitized points"
   ]
  },
  {
   "cell_type": "code",
   "execution_count": null,
   "id": "52ad364d",
   "metadata": {},
   "outputs": [],
   "source": [
    "prob_2ndPoint = trackPoints.loc[:, ['prob_1_X', 'prob_1_Y']].values\n",
    "probVector = prob_2ndPoint - prob_base"
   ]
  },
  {
   "cell_type": "code",
   "execution_count": null,
   "id": "b88d6720",
   "metadata": {},
   "outputs": [],
   "source": [
    "angle = []\n",
    "for ii, pvec in enumerate(probVector):\n",
    "    aa = np.arctan2(np.cross(pvec, BodyHeadVector[ii]), np.dot(pvec, BodyHeadVector[ii]))\n",
    "    angle.append(aa)\n",
    "    \n",
    "pd.Series(data = angle).to_csv('./dataFolder/errorSignal/Digitized_errorAngle.csv')"
   ]
  },
  {
   "cell_type": "code",
   "execution_count": null,
   "id": "e9e22351",
   "metadata": {},
   "outputs": [],
   "source": [
    "plt.plot(np.array(angle)*180/np.pi)"
   ]
  }
 ],
 "metadata": {
  "kernelspec": {
   "display_name": "Python 3 (ipykernel)",
   "language": "python",
   "name": "python3"
  },
  "language_info": {
   "codemirror_mode": {
    "name": "ipython",
    "version": 3
   },
   "file_extension": ".py",
   "mimetype": "text/x-python",
   "name": "python",
   "nbconvert_exporter": "python",
   "pygments_lexer": "ipython3",
   "version": "3.10.9"
  }
 },
 "nbformat": 4,
 "nbformat_minor": 5
}
