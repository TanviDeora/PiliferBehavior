{
 "cells": [
  {
   "cell_type": "code",
   "execution_count": 31,
   "id": "5bafde84",
   "metadata": {},
   "outputs": [],
   "source": [
    "import numpy as np\n",
    "import pandas as pd\n",
    "import matplotlib.pyplot as plt"
   ]
  },
  {
   "cell_type": "code",
   "execution_count": 2,
   "id": "af38ac76",
   "metadata": {},
   "outputs": [],
   "source": [
    "# pull up the polyfit variables and x, y positions\n",
    "\n",
    "p_fit = np.load('./dataFolder/3DpolyfitVariables.npy') #load the coefficients of the polyfit\n",
    "X_arr = pd.read_csv('./dataFolder/x_proboscis_ordered')\n",
    "X_arr = X_arr.drop(['Unnamed: 0'], axis=1)\n",
    "Y_arr = pd.read_csv('./dataFolder/y_proboscis_ordered')\n",
    "Y_arr = Y_arr.drop(['Unnamed: 0'], axis=1)\n",
    "tangent = pd.read_csv('./dataFolder/ProboscisVector.csv')"
   ]
  },
  {
   "cell_type": "markdown",
   "id": "609ff3df",
   "metadata": {},
   "source": [
    "### compute error angle"
   ]
  },
  {
   "cell_type": "code",
   "execution_count": 3,
   "id": "6ffd28ff",
   "metadata": {},
   "outputs": [
    {
     "data": {
      "text/html": [
       "<div>\n",
       "<style scoped>\n",
       "    .dataframe tbody tr th:only-of-type {\n",
       "        vertical-align: middle;\n",
       "    }\n",
       "\n",
       "    .dataframe tbody tr th {\n",
       "        vertical-align: top;\n",
       "    }\n",
       "\n",
       "    .dataframe thead th {\n",
       "        text-align: right;\n",
       "    }\n",
       "</style>\n",
       "<table border=\"1\" class=\"dataframe\">\n",
       "  <thead>\n",
       "    <tr style=\"text-align: right;\">\n",
       "      <th></th>\n",
       "      <th>body_X</th>\n",
       "      <th>body_Y</th>\n",
       "      <th>nectary_X</th>\n",
       "      <th>nectary_Y</th>\n",
       "      <th>prob_base_X</th>\n",
       "      <th>prob_base_Y</th>\n",
       "      <th>prob_mid_X</th>\n",
       "      <th>prob_mid_Y</th>\n",
       "      <th>prob_1_X</th>\n",
       "      <th>prob_1_Y</th>\n",
       "      <th>prob_2_X</th>\n",
       "      <th>prob_2_Y</th>\n",
       "      <th>prob_3_X</th>\n",
       "      <th>prob_3_Y</th>\n",
       "      <th>prob_4_X</th>\n",
       "      <th>prob_4_Y</th>\n",
       "      <th>prob_5_X</th>\n",
       "      <th>prob_5_Y</th>\n",
       "    </tr>\n",
       "  </thead>\n",
       "  <tbody>\n",
       "    <tr>\n",
       "      <th>0</th>\n",
       "      <td>388.078376</td>\n",
       "      <td>381.614068</td>\n",
       "      <td>372.227746</td>\n",
       "      <td>188.424715</td>\n",
       "      <td>381.619192</td>\n",
       "      <td>323.795071</td>\n",
       "      <td>380.238266</td>\n",
       "      <td>277.537139</td>\n",
       "      <td>381.059690</td>\n",
       "      <td>314.190856</td>\n",
       "      <td>381.198874</td>\n",
       "      <td>307.238159</td>\n",
       "      <td>381.084916</td>\n",
       "      <td>300.212757</td>\n",
       "      <td>380.799242</td>\n",
       "      <td>293.442655</td>\n",
       "      <td>380.405303</td>\n",
       "      <td>287.157793</td>\n",
       "    </tr>\n",
       "    <tr>\n",
       "      <th>1</th>\n",
       "      <td>386.810000</td>\n",
       "      <td>386.980000</td>\n",
       "      <td>372.970000</td>\n",
       "      <td>188.000000</td>\n",
       "      <td>381.348241</td>\n",
       "      <td>327.728714</td>\n",
       "      <td>379.416841</td>\n",
       "      <td>278.019424</td>\n",
       "      <td>380.405303</td>\n",
       "      <td>320.557345</td>\n",
       "      <td>380.743042</td>\n",
       "      <td>310.449771</td>\n",
       "      <td>380.743042</td>\n",
       "      <td>302.621466</td>\n",
       "      <td>380.306818</td>\n",
       "      <td>295.597465</td>\n",
       "      <td>380.208333</td>\n",
       "      <td>288.594333</td>\n",
       "    </tr>\n",
       "    <tr>\n",
       "      <th>2</th>\n",
       "      <td>383.100000</td>\n",
       "      <td>379.100000</td>\n",
       "      <td>373.950000</td>\n",
       "      <td>188.010000</td>\n",
       "      <td>378.548415</td>\n",
       "      <td>321.217857</td>\n",
       "      <td>379.950000</td>\n",
       "      <td>278.000000</td>\n",
       "      <td>378.337121</td>\n",
       "      <td>315.709023</td>\n",
       "      <td>378.463881</td>\n",
       "      <td>309.847593</td>\n",
       "      <td>378.691797</td>\n",
       "      <td>301.216386</td>\n",
       "      <td>379.125000</td>\n",
       "      <td>295.238330</td>\n",
       "      <td>379.223485</td>\n",
       "      <td>286.080388</td>\n",
       "    </tr>\n",
       "    <tr>\n",
       "      <th>3</th>\n",
       "      <td>379.238602</td>\n",
       "      <td>381.156274</td>\n",
       "      <td>374.930000</td>\n",
       "      <td>188.010000</td>\n",
       "      <td>377.155303</td>\n",
       "      <td>323.250858</td>\n",
       "      <td>376.815665</td>\n",
       "      <td>278.019424</td>\n",
       "      <td>377.226377</td>\n",
       "      <td>314.914284</td>\n",
       "      <td>378.008049</td>\n",
       "      <td>309.245416</td>\n",
       "      <td>377.096385</td>\n",
       "      <td>301.216386</td>\n",
       "      <td>377.253788</td>\n",
       "      <td>295.597465</td>\n",
       "      <td>376.859848</td>\n",
       "      <td>287.696495</td>\n",
       "    </tr>\n",
       "    <tr>\n",
       "      <th>4</th>\n",
       "      <td>378.700000</td>\n",
       "      <td>379.270000</td>\n",
       "      <td>374.940000</td>\n",
       "      <td>188.010000</td>\n",
       "      <td>376.495312</td>\n",
       "      <td>316.354012</td>\n",
       "      <td>377.010000</td>\n",
       "      <td>278.000000</td>\n",
       "      <td>377.363281</td>\n",
       "      <td>312.985141</td>\n",
       "      <td>376.640553</td>\n",
       "      <td>306.635981</td>\n",
       "      <td>376.754511</td>\n",
       "      <td>300.614209</td>\n",
       "      <td>376.465909</td>\n",
       "      <td>294.699627</td>\n",
       "      <td>376.958333</td>\n",
       "      <td>287.157793</td>\n",
       "    </tr>\n",
       "  </tbody>\n",
       "</table>\n",
       "</div>"
      ],
      "text/plain": [
       "       body_X      body_Y   nectary_X   nectary_Y  prob_base_X  prob_base_Y  \\\n",
       "0  388.078376  381.614068  372.227746  188.424715   381.619192   323.795071   \n",
       "1  386.810000  386.980000  372.970000  188.000000   381.348241   327.728714   \n",
       "2  383.100000  379.100000  373.950000  188.010000   378.548415   321.217857   \n",
       "3  379.238602  381.156274  374.930000  188.010000   377.155303   323.250858   \n",
       "4  378.700000  379.270000  374.940000  188.010000   376.495312   316.354012   \n",
       "\n",
       "   prob_mid_X  prob_mid_Y    prob_1_X    prob_1_Y    prob_2_X    prob_2_Y  \\\n",
       "0  380.238266  277.537139  381.059690  314.190856  381.198874  307.238159   \n",
       "1  379.416841  278.019424  380.405303  320.557345  380.743042  310.449771   \n",
       "2  379.950000  278.000000  378.337121  315.709023  378.463881  309.847593   \n",
       "3  376.815665  278.019424  377.226377  314.914284  378.008049  309.245416   \n",
       "4  377.010000  278.000000  377.363281  312.985141  376.640553  306.635981   \n",
       "\n",
       "     prob_3_X    prob_3_Y    prob_4_X    prob_4_Y    prob_5_X    prob_5_Y  \n",
       "0  381.084916  300.212757  380.799242  293.442655  380.405303  287.157793  \n",
       "1  380.743042  302.621466  380.306818  295.597465  380.208333  288.594333  \n",
       "2  378.691797  301.216386  379.125000  295.238330  379.223485  286.080388  \n",
       "3  377.096385  301.216386  377.253788  295.597465  376.859848  287.696495  \n",
       "4  376.754511  300.614209  376.465909  294.699627  376.958333  287.157793  "
      ]
     },
     "execution_count": 3,
     "metadata": {},
     "output_type": "execute_result"
    }
   ],
   "source": [
    "trackPoints = pd.read_csv('./dataFolder/MV_m1_points.csv')\n",
    "trackPoints.head()"
   ]
  },
  {
   "cell_type": "code",
   "execution_count": 4,
   "id": "9b212965",
   "metadata": {},
   "outputs": [],
   "source": [
    "body =  trackPoints.loc[:, ['body_X', 'body_Y']].values\n",
    "prob_base = trackPoints.loc[:, ['prob_base_X', 'prob_base_Y']].values\n",
    "\n",
    "BodyHeadVector = prob_base - body"
   ]
  },
  {
   "cell_type": "code",
   "execution_count": 26,
   "id": "5e70a4ec",
   "metadata": {},
   "outputs": [],
   "source": [
    "ProbVector = pd.DataFrame()\n",
    "ProbVector['x'] = tangent.loc[:,'x2'] - tangent.loc[:,'x1']\n",
    "ProbVector['y'] = tangent.loc[:,'y2'] - tangent.loc[:,'y1']\n",
    "ProbVector = ProbVector.values"
   ]
  },
  {
   "cell_type": "code",
   "execution_count": 27,
   "id": "1f7778a9",
   "metadata": {},
   "outputs": [
    {
     "data": {
      "text/plain": [
       "(2000, 2000)"
      ]
     },
     "execution_count": 27,
     "metadata": {},
     "output_type": "execute_result"
    }
   ],
   "source": [
    "BodyHeadVector.size, ProbVector.size"
   ]
  },
  {
   "cell_type": "code",
   "execution_count": 35,
   "id": "b88d6720",
   "metadata": {},
   "outputs": [],
   "source": [
    "angle = []\n",
    "for ii, pvec in enumerate(ProbVector):\n",
    "    aa = np.arctan2(np.cross(pvec, BodyHeadVector[ii]), np.dot(pvec, BodyHeadVector[ii]))\n",
    "    angle.append(aa)\n",
    "    \n",
    "pd.Series(data = angle).to_csv('./dataFolder/Tangent_errorAngle.csv')"
   ]
  },
  {
   "cell_type": "code",
   "execution_count": 36,
   "id": "e9e22351",
   "metadata": {},
   "outputs": [
    {
     "data": {
      "text/plain": [
       "[<matplotlib.lines.Line2D at 0x20911efd000>]"
      ]
     },
     "execution_count": 36,
     "metadata": {},
     "output_type": "execute_result"
    },
    {
     "data": {
      "image/png": "[encoded data removed]",
      "text/plain": [
       "<Figure size 640x480 with 1 Axes>"
      ]
     },
     "metadata": {},
     "output_type": "display_data"
    }
   ],
   "source": [
    "plt.plot(np.array(angle)*180/np.pi)"
   ]
  },
  {
   "cell_type": "code",
   "execution_count": null,
   "id": "5be2974d",
   "metadata": {},
   "outputs": [],
   "source": []
  }
 ],
 "metadata": {
  "kernelspec": {
   "display_name": "Python 3 (ipykernel)",
   "language": "python",
   "name": "python3"
  },
  "language_info": {
   "codemirror_mode": {
    "name": "ipython",
    "version": 3
   },
   "file_extension": ".py",
   "mimetype": "text/x-python",
   "name": "python",
   "nbconvert_exporter": "python",
   "pygments_lexer": "ipython3",
   "version": "3.10.9"
  }
 },
 "nbformat": 4,
 "nbformat_minor": 5
}
